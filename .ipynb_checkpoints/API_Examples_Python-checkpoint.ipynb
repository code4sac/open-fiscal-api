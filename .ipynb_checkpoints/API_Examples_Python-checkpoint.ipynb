{
 "cells": [
  {
   "cell_type": "markdown",
   "metadata": {},
   "source": [
    "# Github Open Data API Python Demo\n",
    "\n",
    "This document contains embeded Python code that demonstrates how to access FI$Cal expenditure data, the [California Open Data Portal](https://data.ca.gov/) using the CKAN API.\n",
    "\n",
    "See also the documentation for the [CKAN API](https://docs.ckan.org/en/2.8/api/) and the [CKAN Datastore API](https://docs.ckan.org/en/ckan-2.7.3/maintaining/datastore.html#the-datastore-api)."
   ]
  },
  {
   "cell_type": "markdown",
   "metadata": {},
   "source": [
    "# Load Dependencies\n",
    "\n",
    "If any of these packages aren't already installed on your computer, you can install them by opening a terminal and running `conda install module_name` or `pip install module_name` (e.g. `conda install pandas`)."
   ]
  },
  {
   "cell_type": "code",
   "execution_count": 2,
   "metadata": {},
   "outputs": [
    {
     "data": {
      "text/html": [
       "        <script type=\"text/javascript\">\n",
       "        window.PlotlyConfig = {MathJaxConfig: 'local'};\n",
       "        if (window.MathJax && window.MathJax.Hub && window.MathJax.Hub.Config) {window.MathJax.Hub.Config({SVG: {font: \"STIX-Web\"}});}\n",
       "        if (typeof require !== 'undefined') {\n",
       "        require.undef(\"plotly\");\n",
       "        requirejs.config({\n",
       "            paths: {\n",
       "                'plotly': ['https://cdn.plot.ly/plotly-2.24.1.min']\n",
       "            }\n",
       "        });\n",
       "        require(['plotly'], function(Plotly) {\n",
       "            window._Plotly = Plotly;\n",
       "        });\n",
       "        }\n",
       "        </script>\n",
       "        "
      ]
     },
     "metadata": {},
     "output_type": "display_data"
    }
   ],
   "source": [
    "import pandas as pd # dataframe tool\n",
    "import requests # sends http requests to API\n",
    "import json # turn responses into json format\n",
    "import pprint # makes json format easier to read\n",
    "import cufflinks as cf # for charts\n",
    "cf.go_offline()"
   ]
  },
  {
   "cell_type": "markdown",
   "metadata": {},
   "source": [
    "# Get Resource IDs\n",
    "\n",
    "This script uses the CKAN API to get all the information about the vendor-transactions package (i.e. dataset) and extract the IDs for each of the resources that can be searched with the datastore API. For this particular dataset, there is one resource (i.e. file) for each month of data.\n",
    "\n",
    "This is an important step, as the resulting list of resource IDs will allow future scripts to loop through all of the resources to get information on all months.\n",
    "\n",
    "Note there are two FI\\$Cal datasets available on the Open Data Portal:\n",
    "\n",
    "* [Vendor Transactions](https://data.ca.gov/dataset/vendor-transactions) is the smaller dataset, containing all transactions for which there is an associated vendor name.\n",
    "\n",
    "* [Spending Transactions](https://data.ca.gov/dataset/spending-transactions) is the larger dataset, containing every expenditure transaction for the more than 150 departments that use FI\\$Cal for their accounting.\n",
    "\n",
    "The code examples in this file use the Vendor Transactions dataset. To use the Spending Transactions dataset, replace the URL in the following code block with the URL in the commented line. All field names are identical between the datasets, except that Spending Transactions does not contain a “Vendor Name” field."
   ]
  },
  {
   "cell_type": "code",
   "execution_count": 19,
   "metadata": {},
   "outputs": [
    {
     "data": {
      "text/plain": [
       "1     31858ad8-972e-4ac0-a31b-6b8a11687234\n",
       "2     dced8038-105d-40f1-a5d9-8f2ab60891f4\n",
       "3     6ce3d648-9e1c-496f-8457-790e539e9d8b\n",
       "4     e6e3396b-0dc3-48b3-8dd9-dd2016d588dc\n",
       "5     b38b4cfb-9f5d-4837-935a-1d2fb869f920\n",
       "                      ...                 \n",
       "77    8e9b2614-6a98-418d-9ce6-df65f888bba3\n",
       "78    178f503e-d908-4c86-8fc9-e8401c48d7c0\n",
       "79    5c8f330b-6b9d-408c-a8ca-ac498cfd8152\n",
       "80    52fd7dcf-b518-4656-9457-b94db3d74525\n",
       "81    6ccf80f0-af64-45c8-9e93-6ca8c7325a97\n",
       "Name: resource_id, Length: 81, dtype: object"
      ]
     },
     "execution_count": 19,
     "metadata": {},
     "output_type": "execute_result"
    }
   ],
   "source": [
    "# Link to the api \n",
    "url = \"https://data.ca.gov/api/3/action/package_show?id=vendor-transactions\" #specifies that the package we want information for is \"vendor-transactions\"\n",
    "# For \"spending-transactions\", replace the URL with: \"https://data.ca.gov/api/3/action/package_show?id=spending-transactions\", then follow the same steps below\n",
    "\n",
    "# use requests to get the API response\n",
    "response = requests.get(url)\n",
    "\n",
    "# put the response in json format\n",
    "response_json = response.json()\n",
    "\n",
    "# grab the vendor resource table from the response\n",
    "vendor_resources = pd.DataFrame(response_json['result']['resources'])\n",
    "\n",
    "# create a vector of just the resource IDs that have indexed, searchable data (are \"datastore active\") for later use\n",
    "vendor_resource_ids = vendor_resources[vendor_resources['datastore_active']]['resource_id']\n",
    "\n",
    "# print out the resource ids that can be used to access data\n",
    "vendor_resource_ids"
   ]
  },
  {
   "cell_type": "markdown",
   "metadata": {},
   "source": [
    "# Code Demos Using One Resource\n",
    "\n",
    "## Get the first 5 rows of data from a specific resource."
   ]
  },
  {
   "cell_type": "code",
   "execution_count": 18,
   "metadata": {
    "scrolled": true
   },
   "outputs": [
    {
     "data": {
      "text/html": [
       "<div>\n",
       "<style scoped>\n",
       "    .dataframe tbody tr th:only-of-type {\n",
       "        vertical-align: middle;\n",
       "    }\n",
       "\n",
       "    .dataframe tbody tr th {\n",
       "        vertical-align: top;\n",
       "    }\n",
       "\n",
       "    .dataframe thead th {\n",
       "        text-align: right;\n",
       "    }\n",
       "</style>\n",
       "<table border=\"1\" class=\"dataframe\">\n",
       "  <thead>\n",
       "    <tr style=\"text-align: right;\">\n",
       "      <th></th>\n",
       "      <th>fund_group</th>\n",
       "      <th>budget_reference_category</th>\n",
       "      <th>fiscal_year_begin</th>\n",
       "      <th>accounting_period</th>\n",
       "      <th>program_code</th>\n",
       "      <th>account_sub_category</th>\n",
       "      <th>business_unit</th>\n",
       "      <th>budget_reference_sub_category</th>\n",
       "      <th>accounting_date</th>\n",
       "      <th>fund_description</th>\n",
       "      <th>...</th>\n",
       "      <th>account</th>\n",
       "      <th>_id</th>\n",
       "      <th>account_category</th>\n",
       "      <th>budget_reference_description</th>\n",
       "      <th>fund_code</th>\n",
       "      <th>department_name</th>\n",
       "      <th>vendor_name</th>\n",
       "      <th>program_description</th>\n",
       "      <th>year_of_enactment</th>\n",
       "      <th>related_document</th>\n",
       "    </tr>\n",
       "  </thead>\n",
       "  <tbody>\n",
       "    <tr>\n",
       "      <th>0</th>\n",
       "      <td>Special Funds</td>\n",
       "      <td>State Operations</td>\n",
       "      <td>2019</td>\n",
       "      <td>1</td>\n",
       "      <td>9999000</td>\n",
       "      <td>Printing</td>\n",
       "      <td>7870</td>\n",
       "      <td>Budget Act</td>\n",
       "      <td>2019-07-01</td>\n",
       "      <td>Restitution Fund</td>\n",
       "      <td>...</td>\n",
       "      <td>5302900</td>\n",
       "      <td>1</td>\n",
       "      <td>Printing</td>\n",
       "      <td>BA State Operations-Support001</td>\n",
       "      <td>0214</td>\n",
       "      <td>Victim Compensation Board, CA</td>\n",
       "      <td>STATE CONTROLLER</td>\n",
       "      <td>Clearing Account</td>\n",
       "      <td>2018</td>\n",
       "      <td></td>\n",
       "    </tr>\n",
       "    <tr>\n",
       "      <th>1</th>\n",
       "      <td>General Fund</td>\n",
       "      <td>State Operations</td>\n",
       "      <td>2019</td>\n",
       "      <td>1</td>\n",
       "      <td>9999000</td>\n",
       "      <td>General Expense</td>\n",
       "      <td>4260</td>\n",
       "      <td>Budget Act</td>\n",
       "      <td>2019-07-01</td>\n",
       "      <td>General Fund</td>\n",
       "      <td>...</td>\n",
       "      <td>5301700</td>\n",
       "      <td>2</td>\n",
       "      <td>General Expense</td>\n",
       "      <td>BA State Operations-Support001</td>\n",
       "      <td>0001</td>\n",
       "      <td>State Dept Hlth Care Services</td>\n",
       "      <td>C&amp;C EXPRESS DELIVERY INC</td>\n",
       "      <td>Clearing Account</td>\n",
       "      <td>2018</td>\n",
       "      <td></td>\n",
       "    </tr>\n",
       "    <tr>\n",
       "      <th>2</th>\n",
       "      <td>Special Funds</td>\n",
       "      <td>Local Assistance</td>\n",
       "      <td>2019</td>\n",
       "      <td>1</td>\n",
       "      <td>3715000</td>\n",
       "      <td>Other Special Items of Expense</td>\n",
       "      <td>3970</td>\n",
       "      <td>Non-Budget Act</td>\n",
       "      <td>2019-07-01</td>\n",
       "      <td>Glass Processing Fee Account</td>\n",
       "      <td>...</td>\n",
       "      <td>5490000</td>\n",
       "      <td>3</td>\n",
       "      <td>Other Special Items of Expense</td>\n",
       "      <td>Non-BA Local Assistance 601</td>\n",
       "      <td>0269</td>\n",
       "      <td>Resources Recycling &amp; Recovery</td>\n",
       "      <td>Confidential</td>\n",
       "      <td>Beverage Container Recycling</td>\n",
       "      <td>1990</td>\n",
       "      <td></td>\n",
       "    </tr>\n",
       "    <tr>\n",
       "      <th>3</th>\n",
       "      <td>General Fund</td>\n",
       "      <td>State Operations</td>\n",
       "      <td>2019</td>\n",
       "      <td>1</td>\n",
       "      <td>4400020</td>\n",
       "      <td>Information Technology</td>\n",
       "      <td>4440</td>\n",
       "      <td>Budget Act</td>\n",
       "      <td>2019-07-01</td>\n",
       "      <td>General Fund</td>\n",
       "      <td>...</td>\n",
       "      <td>5346100</td>\n",
       "      <td>4</td>\n",
       "      <td>Information Technology</td>\n",
       "      <td>BA State Operations-Support011</td>\n",
       "      <td>0001</td>\n",
       "      <td>Department of State Hospitals</td>\n",
       "      <td>VERIZON BUSINESS NETWORK SVCS</td>\n",
       "      <td>Administration</td>\n",
       "      <td>2018</td>\n",
       "      <td></td>\n",
       "    </tr>\n",
       "    <tr>\n",
       "      <th>4</th>\n",
       "      <td>Special Funds</td>\n",
       "      <td>Local Assistance</td>\n",
       "      <td>2019</td>\n",
       "      <td>1</td>\n",
       "      <td>3715000</td>\n",
       "      <td>Other Special Items of Expense</td>\n",
       "      <td>3970</td>\n",
       "      <td>Non-Budget Act</td>\n",
       "      <td>2019-07-01</td>\n",
       "      <td>Pet Processing Fee Acct, Bev C</td>\n",
       "      <td>...</td>\n",
       "      <td>5490000</td>\n",
       "      <td>5</td>\n",
       "      <td>Other Special Items of Expense</td>\n",
       "      <td>Non-BA Local Assistance 601</td>\n",
       "      <td>0278</td>\n",
       "      <td>Resources Recycling &amp; Recovery</td>\n",
       "      <td>Confidential</td>\n",
       "      <td>Beverage Container Recycling</td>\n",
       "      <td>1995</td>\n",
       "      <td></td>\n",
       "    </tr>\n",
       "  </tbody>\n",
       "</table>\n",
       "<p>5 rows × 27 columns</p>\n",
       "</div>"
      ],
      "text/plain": [
       "      fund_group budget_reference_category fiscal_year_begin  \\\n",
       "0  Special Funds          State Operations              2019   \n",
       "1   General Fund          State Operations              2019   \n",
       "2  Special Funds          Local Assistance              2019   \n",
       "3   General Fund          State Operations              2019   \n",
       "4  Special Funds          Local Assistance              2019   \n",
       "\n",
       "  accounting_period program_code            account_sub_category  \\\n",
       "0                 1      9999000                        Printing   \n",
       "1                 1      9999000                 General Expense   \n",
       "2                 1      3715000  Other Special Items of Expense   \n",
       "3                 1      4400020          Information Technology   \n",
       "4                 1      3715000  Other Special Items of Expense   \n",
       "\n",
       "  business_unit budget_reference_sub_category accounting_date  \\\n",
       "0          7870                    Budget Act      2019-07-01   \n",
       "1          4260                    Budget Act      2019-07-01   \n",
       "2          3970                Non-Budget Act      2019-07-01   \n",
       "3          4440                    Budget Act      2019-07-01   \n",
       "4          3970                Non-Budget Act      2019-07-01   \n",
       "\n",
       "                 fund_description  ...  account _id  \\\n",
       "0                Restitution Fund  ...  5302900   1   \n",
       "1                    General Fund  ...  5301700   2   \n",
       "2    Glass Processing Fee Account  ...  5490000   3   \n",
       "3                    General Fund  ...  5346100   4   \n",
       "4  Pet Processing Fee Acct, Bev C  ...  5490000   5   \n",
       "\n",
       "                 account_category    budget_reference_description fund_code  \\\n",
       "0                        Printing  BA State Operations-Support001      0214   \n",
       "1                 General Expense  BA State Operations-Support001      0001   \n",
       "2  Other Special Items of Expense     Non-BA Local Assistance 601      0269   \n",
       "3          Information Technology  BA State Operations-Support011      0001   \n",
       "4  Other Special Items of Expense     Non-BA Local Assistance 601      0278   \n",
       "\n",
       "                  department_name                    vendor_name  \\\n",
       "0   Victim Compensation Board, CA               STATE CONTROLLER   \n",
       "1   State Dept Hlth Care Services       C&C EXPRESS DELIVERY INC   \n",
       "2  Resources Recycling & Recovery                   Confidential   \n",
       "3   Department of State Hospitals  VERIZON BUSINESS NETWORK SVCS   \n",
       "4  Resources Recycling & Recovery                   Confidential   \n",
       "\n",
       "            program_description  year_of_enactment related_document  \n",
       "0              Clearing Account               2018                   \n",
       "1              Clearing Account               2018                   \n",
       "2  Beverage Container Recycling               1990                   \n",
       "3                Administration               2018                   \n",
       "4  Beverage Container Recycling               1995                   \n",
       "\n",
       "[5 rows x 27 columns]"
      ]
     },
     "execution_count": 18,
     "metadata": {},
     "output_type": "execute_result"
    }
   ],
   "source": [
    "# Using resource ID for FY19P01 (23460e28-6a4b-419d-997e-7c51251e733e), limit = 5\n",
    "five_rows_url = \"https://data.ca.gov/api/3/action/datastore_search?resource_id=23460e28-6a4b-419d-997e-7c51251e733e&limit=5\"\n",
    "five_rows_response = requests.get(five_rows_url)\n",
    "five_rows_json = five_rows_response.json()\n",
    "five_rows_records = pd.DataFrame(five_rows_json['result']['records'])\n",
    "five_rows_records"
   ]
  },
  {
   "cell_type": "markdown",
   "metadata": {},
   "source": [
    "## Get all records containing jones from a particular resource"
   ]
  },
  {
   "cell_type": "code",
   "execution_count": 23,
   "metadata": {},
   "outputs": [
    {
     "data": {
      "text/html": [
       "<div>\n",
       "<style scoped>\n",
       "    .dataframe tbody tr th:only-of-type {\n",
       "        vertical-align: middle;\n",
       "    }\n",
       "\n",
       "    .dataframe tbody tr th {\n",
       "        vertical-align: top;\n",
       "    }\n",
       "\n",
       "    .dataframe thead th {\n",
       "        text-align: right;\n",
       "    }\n",
       "</style>\n",
       "<table border=\"1\" class=\"dataframe\">\n",
       "  <thead>\n",
       "    <tr style=\"text-align: right;\">\n",
       "      <th></th>\n",
       "      <th>fund_group</th>\n",
       "      <th>rank</th>\n",
       "      <th>budget_reference_category</th>\n",
       "      <th>fiscal_year_begin</th>\n",
       "      <th>accounting_period</th>\n",
       "      <th>program_code</th>\n",
       "      <th>account_sub_category</th>\n",
       "      <th>business_unit</th>\n",
       "      <th>budget_reference_sub_category</th>\n",
       "      <th>accounting_date</th>\n",
       "      <th>...</th>\n",
       "      <th>account</th>\n",
       "      <th>_id</th>\n",
       "      <th>account_category</th>\n",
       "      <th>budget_reference_description</th>\n",
       "      <th>fund_code</th>\n",
       "      <th>department_name</th>\n",
       "      <th>vendor_name</th>\n",
       "      <th>program_description</th>\n",
       "      <th>year_of_enactment</th>\n",
       "      <th>related_document</th>\n",
       "    </tr>\n",
       "  </thead>\n",
       "  <tbody>\n",
       "    <tr>\n",
       "      <th>0</th>\n",
       "      <td>Special Funds</td>\n",
       "      <td>0.057309</td>\n",
       "      <td>State Operations</td>\n",
       "      <td>2019</td>\n",
       "      <td>1</td>\n",
       "      <td>1215014</td>\n",
       "      <td>External</td>\n",
       "      <td>1111</td>\n",
       "      <td>Budget Act</td>\n",
       "      <td>2019-07-02</td>\n",
       "      <td>...</td>\n",
       "      <td>5340550</td>\n",
       "      <td>11928</td>\n",
       "      <td>Consulting &amp; Professional Svcs</td>\n",
       "      <td>BA State Operations-Support001</td>\n",
       "      <td>0770</td>\n",
       "      <td>Department of Consumer Affairs</td>\n",
       "      <td>FREDERICK R JONES JR</td>\n",
       "      <td>Board for Professional Enginee</td>\n",
       "      <td>2018</td>\n",
       "      <td></td>\n",
       "    </tr>\n",
       "    <tr>\n",
       "      <th>1</th>\n",
       "      <td>Special Funds</td>\n",
       "      <td>0.057309</td>\n",
       "      <td>State Operations</td>\n",
       "      <td>2019</td>\n",
       "      <td>1</td>\n",
       "      <td>1150019</td>\n",
       "      <td>External</td>\n",
       "      <td>1111</td>\n",
       "      <td>Budget Act</td>\n",
       "      <td>2019-07-02</td>\n",
       "      <td>...</td>\n",
       "      <td>5340540</td>\n",
       "      <td>24205</td>\n",
       "      <td>Consulting &amp; Professional Svcs</td>\n",
       "      <td>BA State Operations-Support001</td>\n",
       "      <td>0758</td>\n",
       "      <td>Department of Consumer Affairs</td>\n",
       "      <td>BRIAN R JONES</td>\n",
       "      <td>Medical Board of California</td>\n",
       "      <td>2018</td>\n",
       "      <td></td>\n",
       "    </tr>\n",
       "    <tr>\n",
       "      <th>2</th>\n",
       "      <td>Special Funds</td>\n",
       "      <td>0.057309</td>\n",
       "      <td>State Operations</td>\n",
       "      <td>2019</td>\n",
       "      <td>1</td>\n",
       "      <td>1215014</td>\n",
       "      <td>External</td>\n",
       "      <td>1111</td>\n",
       "      <td>Budget Act</td>\n",
       "      <td>2019-07-02</td>\n",
       "      <td>...</td>\n",
       "      <td>5340550</td>\n",
       "      <td>24690</td>\n",
       "      <td>Consulting &amp; Professional Svcs</td>\n",
       "      <td>BA State Operations-Support001</td>\n",
       "      <td>0770</td>\n",
       "      <td>Department of Consumer Affairs</td>\n",
       "      <td>FREDERICK R JONES JR</td>\n",
       "      <td>Board for Professional Enginee</td>\n",
       "      <td>2018</td>\n",
       "      <td></td>\n",
       "    </tr>\n",
       "    <tr>\n",
       "      <th>3</th>\n",
       "      <td>Other NonGovt Cost Funds</td>\n",
       "      <td>0.057309</td>\n",
       "      <td>State Operations</td>\n",
       "      <td>2019</td>\n",
       "      <td>1</td>\n",
       "      <td>9990000</td>\n",
       "      <td>Other Special Items of Expense</td>\n",
       "      <td>4140</td>\n",
       "      <td>Non-Budget Act</td>\n",
       "      <td>2019-07-01</td>\n",
       "      <td>...</td>\n",
       "      <td>5454000</td>\n",
       "      <td>26551</td>\n",
       "      <td>Other Special Items of Expense</td>\n",
       "      <td>Non-BA State Operations-Sup506</td>\n",
       "      <td>8034</td>\n",
       "      <td>Statewide Health Planning</td>\n",
       "      <td>CHRISTOPHER L JONES</td>\n",
       "      <td>Unscheduled Items of Approp</td>\n",
       "      <td>2006</td>\n",
       "      <td></td>\n",
       "    </tr>\n",
       "    <tr>\n",
       "      <th>4</th>\n",
       "      <td>Special Funds</td>\n",
       "      <td>0.057309</td>\n",
       "      <td>State Operations</td>\n",
       "      <td>2019</td>\n",
       "      <td>1</td>\n",
       "      <td>3835000</td>\n",
       "      <td>Other Special Items of Expense</td>\n",
       "      <td>4140</td>\n",
       "      <td>Budget Act</td>\n",
       "      <td>2019-07-01</td>\n",
       "      <td>...</td>\n",
       "      <td>5454000</td>\n",
       "      <td>28039</td>\n",
       "      <td>Other Special Items of Expense</td>\n",
       "      <td>BA State Operations-Support001</td>\n",
       "      <td>3085</td>\n",
       "      <td>Statewide Health Planning</td>\n",
       "      <td>KENJI M JONES</td>\n",
       "      <td>Health Care Workforce</td>\n",
       "      <td>2013</td>\n",
       "      <td></td>\n",
       "    </tr>\n",
       "    <tr>\n",
       "      <th>...</th>\n",
       "      <td>...</td>\n",
       "      <td>...</td>\n",
       "      <td>...</td>\n",
       "      <td>...</td>\n",
       "      <td>...</td>\n",
       "      <td>...</td>\n",
       "      <td>...</td>\n",
       "      <td>...</td>\n",
       "      <td>...</td>\n",
       "      <td>...</td>\n",
       "      <td>...</td>\n",
       "      <td>...</td>\n",
       "      <td>...</td>\n",
       "      <td>...</td>\n",
       "      <td>...</td>\n",
       "      <td>...</td>\n",
       "      <td>...</td>\n",
       "      <td>...</td>\n",
       "      <td>...</td>\n",
       "      <td>...</td>\n",
       "      <td>...</td>\n",
       "    </tr>\n",
       "    <tr>\n",
       "      <th>75</th>\n",
       "      <td>Special Funds</td>\n",
       "      <td>0.057309</td>\n",
       "      <td>State Operations</td>\n",
       "      <td>2019</td>\n",
       "      <td>1</td>\n",
       "      <td>9999000</td>\n",
       "      <td>External</td>\n",
       "      <td>3790</td>\n",
       "      <td>Budget Act</td>\n",
       "      <td>2019-07-31</td>\n",
       "      <td>...</td>\n",
       "      <td>5340580</td>\n",
       "      <td>314886</td>\n",
       "      <td>Consulting &amp; Professional Svcs</td>\n",
       "      <td>BA State Operations-Support001</td>\n",
       "      <td>0392</td>\n",
       "      <td>Dept of Parks &amp; Recreation</td>\n",
       "      <td>JONES BROS CAPITOL CITY PEST</td>\n",
       "      <td>Clearing Account</td>\n",
       "      <td>2018</td>\n",
       "      <td></td>\n",
       "    </tr>\n",
       "    <tr>\n",
       "      <th>76</th>\n",
       "      <td>Special Funds</td>\n",
       "      <td>0.057309</td>\n",
       "      <td>State Operations</td>\n",
       "      <td>2019</td>\n",
       "      <td>1</td>\n",
       "      <td>9999000</td>\n",
       "      <td>External</td>\n",
       "      <td>3790</td>\n",
       "      <td>Budget Act</td>\n",
       "      <td>2019-07-31</td>\n",
       "      <td>...</td>\n",
       "      <td>5340580</td>\n",
       "      <td>318597</td>\n",
       "      <td>Consulting &amp; Professional Svcs</td>\n",
       "      <td>BA State Operations-Support001</td>\n",
       "      <td>0392</td>\n",
       "      <td>Dept of Parks &amp; Recreation</td>\n",
       "      <td>JONES BROS CAPITOL CITY PEST</td>\n",
       "      <td>Clearing Account</td>\n",
       "      <td>2018</td>\n",
       "      <td></td>\n",
       "    </tr>\n",
       "    <tr>\n",
       "      <th>77</th>\n",
       "      <td>Special Funds</td>\n",
       "      <td>0.057309</td>\n",
       "      <td>State Operations</td>\n",
       "      <td>2019</td>\n",
       "      <td>1</td>\n",
       "      <td>9999000</td>\n",
       "      <td>Other Items of Expense</td>\n",
       "      <td>2720</td>\n",
       "      <td>Budget Act</td>\n",
       "      <td>2019-07-29</td>\n",
       "      <td>...</td>\n",
       "      <td>5390880</td>\n",
       "      <td>324484</td>\n",
       "      <td>Other Items of Expense</td>\n",
       "      <td>BA State Operations-Support001</td>\n",
       "      <td>0044</td>\n",
       "      <td>Dept of the CA Highway Patrol</td>\n",
       "      <td>JONES WEST FORD</td>\n",
       "      <td>Clearing Account</td>\n",
       "      <td>2018</td>\n",
       "      <td></td>\n",
       "    </tr>\n",
       "    <tr>\n",
       "      <th>78</th>\n",
       "      <td>General Fund</td>\n",
       "      <td>0.057309</td>\n",
       "      <td>State Operations</td>\n",
       "      <td>2019</td>\n",
       "      <td>1</td>\n",
       "      <td>4410050</td>\n",
       "      <td>Other Items of Expense</td>\n",
       "      <td>4440</td>\n",
       "      <td>Budget Act</td>\n",
       "      <td>2019-07-31</td>\n",
       "      <td>...</td>\n",
       "      <td>5390550</td>\n",
       "      <td>327858</td>\n",
       "      <td>Other Items of Expense</td>\n",
       "      <td>BA State Operations-Support011</td>\n",
       "      <td>0001</td>\n",
       "      <td>Department of State Hospitals</td>\n",
       "      <td>A&amp;G JONES DRY CLEANING INC</td>\n",
       "      <td>State Hospitals</td>\n",
       "      <td>2019</td>\n",
       "      <td></td>\n",
       "    </tr>\n",
       "    <tr>\n",
       "      <th>79</th>\n",
       "      <td>General Fund</td>\n",
       "      <td>0.057309</td>\n",
       "      <td>State Operations</td>\n",
       "      <td>2019</td>\n",
       "      <td>1</td>\n",
       "      <td>4410050</td>\n",
       "      <td>Other Items of Expense</td>\n",
       "      <td>4440</td>\n",
       "      <td>Budget Act</td>\n",
       "      <td>2019-07-31</td>\n",
       "      <td>...</td>\n",
       "      <td>5390550</td>\n",
       "      <td>335822</td>\n",
       "      <td>Other Items of Expense</td>\n",
       "      <td>BA State Operations-Support011</td>\n",
       "      <td>0001</td>\n",
       "      <td>Department of State Hospitals</td>\n",
       "      <td>A&amp;G JONES DRY CLEANING INC</td>\n",
       "      <td>State Hospitals</td>\n",
       "      <td>2019</td>\n",
       "      <td></td>\n",
       "    </tr>\n",
       "  </tbody>\n",
       "</table>\n",
       "<p>80 rows × 28 columns</p>\n",
       "</div>"
      ],
      "text/plain": [
       "                  fund_group      rank budget_reference_category  \\\n",
       "0              Special Funds  0.057309          State Operations   \n",
       "1              Special Funds  0.057309          State Operations   \n",
       "2              Special Funds  0.057309          State Operations   \n",
       "3   Other NonGovt Cost Funds  0.057309          State Operations   \n",
       "4              Special Funds  0.057309          State Operations   \n",
       "..                       ...       ...                       ...   \n",
       "75             Special Funds  0.057309          State Operations   \n",
       "76             Special Funds  0.057309          State Operations   \n",
       "77             Special Funds  0.057309          State Operations   \n",
       "78              General Fund  0.057309          State Operations   \n",
       "79              General Fund  0.057309          State Operations   \n",
       "\n",
       "   fiscal_year_begin accounting_period program_code  \\\n",
       "0               2019                 1      1215014   \n",
       "1               2019                 1      1150019   \n",
       "2               2019                 1      1215014   \n",
       "3               2019                 1      9990000   \n",
       "4               2019                 1      3835000   \n",
       "..               ...               ...          ...   \n",
       "75              2019                 1      9999000   \n",
       "76              2019                 1      9999000   \n",
       "77              2019                 1      9999000   \n",
       "78              2019                 1      4410050   \n",
       "79              2019                 1      4410050   \n",
       "\n",
       "              account_sub_category business_unit  \\\n",
       "0                         External          1111   \n",
       "1                         External          1111   \n",
       "2                         External          1111   \n",
       "3   Other Special Items of Expense          4140   \n",
       "4   Other Special Items of Expense          4140   \n",
       "..                             ...           ...   \n",
       "75                        External          3790   \n",
       "76                        External          3790   \n",
       "77          Other Items of Expense          2720   \n",
       "78          Other Items of Expense          4440   \n",
       "79          Other Items of Expense          4440   \n",
       "\n",
       "   budget_reference_sub_category accounting_date  ...  account     _id  \\\n",
       "0                     Budget Act      2019-07-02  ...  5340550   11928   \n",
       "1                     Budget Act      2019-07-02  ...  5340540   24205   \n",
       "2                     Budget Act      2019-07-02  ...  5340550   24690   \n",
       "3                 Non-Budget Act      2019-07-01  ...  5454000   26551   \n",
       "4                     Budget Act      2019-07-01  ...  5454000   28039   \n",
       "..                           ...             ...  ...      ...     ...   \n",
       "75                    Budget Act      2019-07-31  ...  5340580  314886   \n",
       "76                    Budget Act      2019-07-31  ...  5340580  318597   \n",
       "77                    Budget Act      2019-07-29  ...  5390880  324484   \n",
       "78                    Budget Act      2019-07-31  ...  5390550  327858   \n",
       "79                    Budget Act      2019-07-31  ...  5390550  335822   \n",
       "\n",
       "                  account_category    budget_reference_description fund_code  \\\n",
       "0   Consulting & Professional Svcs  BA State Operations-Support001      0770   \n",
       "1   Consulting & Professional Svcs  BA State Operations-Support001      0758   \n",
       "2   Consulting & Professional Svcs  BA State Operations-Support001      0770   \n",
       "3   Other Special Items of Expense  Non-BA State Operations-Sup506      8034   \n",
       "4   Other Special Items of Expense  BA State Operations-Support001      3085   \n",
       "..                             ...                             ...       ...   \n",
       "75  Consulting & Professional Svcs  BA State Operations-Support001      0392   \n",
       "76  Consulting & Professional Svcs  BA State Operations-Support001      0392   \n",
       "77          Other Items of Expense  BA State Operations-Support001      0044   \n",
       "78          Other Items of Expense  BA State Operations-Support011      0001   \n",
       "79          Other Items of Expense  BA State Operations-Support011      0001   \n",
       "\n",
       "                   department_name                   vendor_name  \\\n",
       "0   Department of Consumer Affairs          FREDERICK R JONES JR   \n",
       "1   Department of Consumer Affairs                 BRIAN R JONES   \n",
       "2   Department of Consumer Affairs          FREDERICK R JONES JR   \n",
       "3        Statewide Health Planning           CHRISTOPHER L JONES   \n",
       "4        Statewide Health Planning                 KENJI M JONES   \n",
       "..                             ...                           ...   \n",
       "75      Dept of Parks & Recreation  JONES BROS CAPITOL CITY PEST   \n",
       "76      Dept of Parks & Recreation  JONES BROS CAPITOL CITY PEST   \n",
       "77   Dept of the CA Highway Patrol               JONES WEST FORD   \n",
       "78   Department of State Hospitals    A&G JONES DRY CLEANING INC   \n",
       "79   Department of State Hospitals    A&G JONES DRY CLEANING INC   \n",
       "\n",
       "               program_description year_of_enactment  related_document  \n",
       "0   Board for Professional Enginee              2018                    \n",
       "1      Medical Board of California              2018                    \n",
       "2   Board for Professional Enginee              2018                    \n",
       "3      Unscheduled Items of Approp              2006                    \n",
       "4            Health Care Workforce              2013                    \n",
       "..                             ...               ...               ...  \n",
       "75                Clearing Account              2018                    \n",
       "76                Clearing Account              2018                    \n",
       "77                Clearing Account              2018                    \n",
       "78                 State Hospitals              2019                    \n",
       "79                 State Hospitals              2019                    \n",
       "\n",
       "[80 rows x 28 columns]"
      ]
     },
     "execution_count": 23,
     "metadata": {},
     "output_type": "execute_result"
    }
   ],
   "source": [
    "# q = jones\n",
    "jones_url = \"https://data.ca.gov/api/3/action/datastore_search?resource_id=23460e28-6a4b-419d-997e-7c51251e733e&q=jones\"\n",
    "jones_response = requests.get(jones_url)\n",
    "jones_json = jones_response.json()\n",
    "jones_records = pd.DataFrame(jones_json['result']['records'])\n",
    "jones_records"
   ]
  },
  {
   "cell_type": "markdown",
   "metadata": {},
   "source": [
    "## Use SQL to get all account codes from a specific resource."
   ]
  },
  {
   "cell_type": "code",
   "execution_count": 25,
   "metadata": {
    "scrolled": true
   },
   "outputs": [
    {
     "data": {
      "text/html": [
       "<div>\n",
       "<style scoped>\n",
       "    .dataframe tbody tr th:only-of-type {\n",
       "        vertical-align: middle;\n",
       "    }\n",
       "\n",
       "    .dataframe tbody tr th {\n",
       "        vertical-align: top;\n",
       "    }\n",
       "\n",
       "    .dataframe thead th {\n",
       "        text-align: right;\n",
       "    }\n",
       "</style>\n",
       "<table border=\"1\" class=\"dataframe\">\n",
       "  <thead>\n",
       "    <tr style=\"text-align: right;\">\n",
       "      <th></th>\n",
       "      <th>fund_group</th>\n",
       "      <th>budget_reference_category</th>\n",
       "      <th>fiscal_year_begin</th>\n",
       "      <th>accounting_period</th>\n",
       "      <th>program_code</th>\n",
       "      <th>account_sub_category</th>\n",
       "      <th>business_unit</th>\n",
       "      <th>budget_reference_sub_category</th>\n",
       "      <th>accounting_date</th>\n",
       "      <th>fund_description</th>\n",
       "      <th>...</th>\n",
       "      <th>_id</th>\n",
       "      <th>account_category</th>\n",
       "      <th>budget_reference_description</th>\n",
       "      <th>_full_text</th>\n",
       "      <th>fund_code</th>\n",
       "      <th>department_name</th>\n",
       "      <th>vendor_name</th>\n",
       "      <th>program_description</th>\n",
       "      <th>year_of_enactment</th>\n",
       "      <th>related_document</th>\n",
       "    </tr>\n",
       "  </thead>\n",
       "  <tbody>\n",
       "    <tr>\n",
       "      <th>0</th>\n",
       "      <td>Special Funds</td>\n",
       "      <td>Local Assistance</td>\n",
       "      <td>2019</td>\n",
       "      <td>1</td>\n",
       "      <td>6380000</td>\n",
       "      <td>Other Special Items of Expense</td>\n",
       "      <td>7870</td>\n",
       "      <td>Non-Budget Act</td>\n",
       "      <td>2019-07-01</td>\n",
       "      <td>Safe Neighborhoods and Schools</td>\n",
       "      <td>...</td>\n",
       "      <td>218</td>\n",
       "      <td>Other Special Items of Expense</td>\n",
       "      <td>Non-BA Local Assistance 601</td>\n",
       "      <td>'-01':11 '-07':10 '1':13 '2016':61 '2019':9,12...</td>\n",
       "      <td>3286</td>\n",
       "      <td>Victim Compensation Board, CA</td>\n",
       "      <td>THE UNIVERSITY CORPORATION</td>\n",
       "      <td>Victim Compensation</td>\n",
       "      <td>2016</td>\n",
       "      <td></td>\n",
       "    </tr>\n",
       "    <tr>\n",
       "      <th>1</th>\n",
       "      <td>General Fund</td>\n",
       "      <td>Local Assistance</td>\n",
       "      <td>2019</td>\n",
       "      <td>1</td>\n",
       "      <td>9999000</td>\n",
       "      <td>Other Special Items of Expense</td>\n",
       "      <td>4260</td>\n",
       "      <td>Budget Act</td>\n",
       "      <td>2019-07-02</td>\n",
       "      <td>General Fund</td>\n",
       "      <td>...</td>\n",
       "      <td>5302</td>\n",
       "      <td>Other Special Items of Expense</td>\n",
       "      <td>BA Local Assistance 111</td>\n",
       "      <td>'-02':14 '-07':13 '0001':40 '1':16 '111':50,58...</td>\n",
       "      <td>0001</td>\n",
       "      <td>State Dept Hlth Care Services</td>\n",
       "      <td>MATHIESEN MEMORIAL HLTH CLINIC</td>\n",
       "      <td>Clearing Account</td>\n",
       "      <td>2018</td>\n",
       "      <td></td>\n",
       "    </tr>\n",
       "    <tr>\n",
       "      <th>2</th>\n",
       "      <td>Special Funds</td>\n",
       "      <td>Local Assistance</td>\n",
       "      <td>2019</td>\n",
       "      <td>1</td>\n",
       "      <td>6380000</td>\n",
       "      <td>Other Special Items of Expense</td>\n",
       "      <td>7870</td>\n",
       "      <td>Non-Budget Act</td>\n",
       "      <td>2019-07-01</td>\n",
       "      <td>Safe Neighborhoods and Schools</td>\n",
       "      <td>...</td>\n",
       "      <td>4509</td>\n",
       "      <td>Other Special Items of Expense</td>\n",
       "      <td>Non-BA Local Assistance 601</td>\n",
       "      <td>'-01':11 '-07':10 '1':13 '2016':63 '2019':9,12...</td>\n",
       "      <td>3286</td>\n",
       "      <td>Victim Compensation Board, CA</td>\n",
       "      <td>SPECIAL SERVICE FOR GROUPS INC</td>\n",
       "      <td>Victim Compensation</td>\n",
       "      <td>2016</td>\n",
       "      <td></td>\n",
       "    </tr>\n",
       "    <tr>\n",
       "      <th>3</th>\n",
       "      <td>Federal Funds</td>\n",
       "      <td>Local Assistance</td>\n",
       "      <td>2019</td>\n",
       "      <td>1</td>\n",
       "      <td>3960032</td>\n",
       "      <td>Other Special Items of Expense</td>\n",
       "      <td>4260</td>\n",
       "      <td>Budget Act</td>\n",
       "      <td>2019-07-08</td>\n",
       "      <td>Federal Trust Fund</td>\n",
       "      <td>...</td>\n",
       "      <td>16980</td>\n",
       "      <td>Other Special Items of Expense</td>\n",
       "      <td>BA Local Assistance 111</td>\n",
       "      <td>'-07':13 '-08':14 '0890':39 '1':16 '111':53,61...</td>\n",
       "      <td>0890</td>\n",
       "      <td>State Dept Hlth Care Services</td>\n",
       "      <td>PLUMAS DISTRICT HOSPITAL</td>\n",
       "      <td>Health Care Services</td>\n",
       "      <td>2018</td>\n",
       "      <td></td>\n",
       "    </tr>\n",
       "    <tr>\n",
       "      <th>4</th>\n",
       "      <td>Federal Funds</td>\n",
       "      <td>State Operations</td>\n",
       "      <td>2019</td>\n",
       "      <td>1</td>\n",
       "      <td>3960000</td>\n",
       "      <td>Other Special Items of Expense</td>\n",
       "      <td>4260</td>\n",
       "      <td>Budget Act</td>\n",
       "      <td>2019-07-05</td>\n",
       "      <td>Federal Trust Fund</td>\n",
       "      <td>...</td>\n",
       "      <td>10283</td>\n",
       "      <td>Other Special Items of Expense</td>\n",
       "      <td>BA State Operations-Support001</td>\n",
       "      <td>'-05':14 '-07':13 '001':53 '0890':40 '1':16 '2...</td>\n",
       "      <td>0890</td>\n",
       "      <td>State Dept Hlth Care Services</td>\n",
       "      <td>CA HEALTH FOUNDATION &amp; TRUST</td>\n",
       "      <td>Health Care Services</td>\n",
       "      <td>2018</td>\n",
       "      <td></td>\n",
       "    </tr>\n",
       "    <tr>\n",
       "      <th>...</th>\n",
       "      <td>...</td>\n",
       "      <td>...</td>\n",
       "      <td>...</td>\n",
       "      <td>...</td>\n",
       "      <td>...</td>\n",
       "      <td>...</td>\n",
       "      <td>...</td>\n",
       "      <td>...</td>\n",
       "      <td>...</td>\n",
       "      <td>...</td>\n",
       "      <td>...</td>\n",
       "      <td>...</td>\n",
       "      <td>...</td>\n",
       "      <td>...</td>\n",
       "      <td>...</td>\n",
       "      <td>...</td>\n",
       "      <td>...</td>\n",
       "      <td>...</td>\n",
       "      <td>...</td>\n",
       "      <td>...</td>\n",
       "      <td>...</td>\n",
       "    </tr>\n",
       "    <tr>\n",
       "      <th>155</th>\n",
       "      <td>General Fund</td>\n",
       "      <td>Local Assistance</td>\n",
       "      <td>2019</td>\n",
       "      <td>1</td>\n",
       "      <td>0385000</td>\n",
       "      <td>Other Special Items of Expense</td>\n",
       "      <td>0690</td>\n",
       "      <td>Budget Act</td>\n",
       "      <td>2019-07-26</td>\n",
       "      <td>General Fund</td>\n",
       "      <td>...</td>\n",
       "      <td>294551</td>\n",
       "      <td>Other Special Items of Expense</td>\n",
       "      <td>BA Local Assistance 115</td>\n",
       "      <td>'-07':11 '-26':12 '0001':38 '0385000':43 '0690...</td>\n",
       "      <td>0001</td>\n",
       "      <td>Office of Emergency Services</td>\n",
       "      <td>COMMUNITY HOSPITAL OF MONTEREY</td>\n",
       "      <td>Special Pgrms and Grant Mgmt</td>\n",
       "      <td>2019</td>\n",
       "      <td></td>\n",
       "    </tr>\n",
       "    <tr>\n",
       "      <th>156</th>\n",
       "      <td>General Fund</td>\n",
       "      <td>Local Assistance</td>\n",
       "      <td>2019</td>\n",
       "      <td>1</td>\n",
       "      <td>0385000</td>\n",
       "      <td>Other Special Items of Expense</td>\n",
       "      <td>0690</td>\n",
       "      <td>Budget Act</td>\n",
       "      <td>2019-07-25</td>\n",
       "      <td>General Fund</td>\n",
       "      <td>...</td>\n",
       "      <td>299334</td>\n",
       "      <td>Other Special Items of Expense</td>\n",
       "      <td>BA Local Assistance 115</td>\n",
       "      <td>'-07':11 '-25':12 '0001':38 '0385000':43 '0690...</td>\n",
       "      <td>0001</td>\n",
       "      <td>Office of Emergency Services</td>\n",
       "      <td>REDDING OCCUPATIONAL MED CTR</td>\n",
       "      <td>Special Pgrms and Grant Mgmt</td>\n",
       "      <td>2019</td>\n",
       "      <td></td>\n",
       "    </tr>\n",
       "    <tr>\n",
       "      <th>157</th>\n",
       "      <td>Special Funds</td>\n",
       "      <td>Local Assistance</td>\n",
       "      <td>2019</td>\n",
       "      <td>1</td>\n",
       "      <td>6380000</td>\n",
       "      <td>Other Special Items of Expense</td>\n",
       "      <td>7870</td>\n",
       "      <td>Non-Budget Act</td>\n",
       "      <td>2019-07-31</td>\n",
       "      <td>Safe Neighborhoods and Schools</td>\n",
       "      <td>...</td>\n",
       "      <td>305046</td>\n",
       "      <td>Other Special Items of Expense</td>\n",
       "      <td>Non-BA Local Assistance 601</td>\n",
       "      <td>'-07':10 '-31':11 '1':13 '2016':62 '2019':9,12...</td>\n",
       "      <td>3286</td>\n",
       "      <td>Victim Compensation Board, CA</td>\n",
       "      <td>PARTNERSHIPS FOR TRAUMA RECOVERY</td>\n",
       "      <td>Victim Compensation</td>\n",
       "      <td>2016</td>\n",
       "      <td></td>\n",
       "    </tr>\n",
       "    <tr>\n",
       "      <th>158</th>\n",
       "      <td>General Fund</td>\n",
       "      <td>Local Assistance</td>\n",
       "      <td>2019</td>\n",
       "      <td>1</td>\n",
       "      <td>0385000</td>\n",
       "      <td>Other Special Items of Expense</td>\n",
       "      <td>0690</td>\n",
       "      <td>Budget Act</td>\n",
       "      <td>2019-07-25</td>\n",
       "      <td>General Fund</td>\n",
       "      <td>...</td>\n",
       "      <td>314204</td>\n",
       "      <td>Other Special Items of Expense</td>\n",
       "      <td>BA Local Assistance 115</td>\n",
       "      <td>'-07':11 '-25':12 '0001':37 '0385000':42 '0690...</td>\n",
       "      <td>0001</td>\n",
       "      <td>Office of Emergency Services</td>\n",
       "      <td>CENTER FOR NEUROPSYCHOLOGY</td>\n",
       "      <td>Special Pgrms and Grant Mgmt</td>\n",
       "      <td>2019</td>\n",
       "      <td></td>\n",
       "    </tr>\n",
       "    <tr>\n",
       "      <th>159</th>\n",
       "      <td>General Fund</td>\n",
       "      <td>Local Assistance</td>\n",
       "      <td>2019</td>\n",
       "      <td>1</td>\n",
       "      <td>0385000</td>\n",
       "      <td>Other Special Items of Expense</td>\n",
       "      <td>0690</td>\n",
       "      <td>Budget Act</td>\n",
       "      <td>2019-07-26</td>\n",
       "      <td>General Fund</td>\n",
       "      <td>...</td>\n",
       "      <td>310060</td>\n",
       "      <td>Other Special Items of Expense</td>\n",
       "      <td>BA Local Assistance 115</td>\n",
       "      <td>'-07':11 '-26':12 '0001':37 '0385000':42 '0690...</td>\n",
       "      <td>0001</td>\n",
       "      <td>Office of Emergency Services</td>\n",
       "      <td>MITCHELL INTERNATIONAL INC</td>\n",
       "      <td>Special Pgrms and Grant Mgmt</td>\n",
       "      <td>2019</td>\n",
       "      <td></td>\n",
       "    </tr>\n",
       "  </tbody>\n",
       "</table>\n",
       "<p>160 rows × 28 columns</p>\n",
       "</div>"
      ],
      "text/plain": [
       "        fund_group budget_reference_category fiscal_year_begin  \\\n",
       "0    Special Funds          Local Assistance              2019   \n",
       "1     General Fund          Local Assistance              2019   \n",
       "2    Special Funds          Local Assistance              2019   \n",
       "3    Federal Funds          Local Assistance              2019   \n",
       "4    Federal Funds          State Operations              2019   \n",
       "..             ...                       ...               ...   \n",
       "155   General Fund          Local Assistance              2019   \n",
       "156   General Fund          Local Assistance              2019   \n",
       "157  Special Funds          Local Assistance              2019   \n",
       "158   General Fund          Local Assistance              2019   \n",
       "159   General Fund          Local Assistance              2019   \n",
       "\n",
       "    accounting_period program_code            account_sub_category  \\\n",
       "0                   1      6380000  Other Special Items of Expense   \n",
       "1                   1      9999000  Other Special Items of Expense   \n",
       "2                   1      6380000  Other Special Items of Expense   \n",
       "3                   1      3960032  Other Special Items of Expense   \n",
       "4                   1      3960000  Other Special Items of Expense   \n",
       "..                ...          ...                             ...   \n",
       "155                 1      0385000  Other Special Items of Expense   \n",
       "156                 1      0385000  Other Special Items of Expense   \n",
       "157                 1      6380000  Other Special Items of Expense   \n",
       "158                 1      0385000  Other Special Items of Expense   \n",
       "159                 1      0385000  Other Special Items of Expense   \n",
       "\n",
       "    business_unit budget_reference_sub_category accounting_date  \\\n",
       "0            7870                Non-Budget Act      2019-07-01   \n",
       "1            4260                    Budget Act      2019-07-02   \n",
       "2            7870                Non-Budget Act      2019-07-01   \n",
       "3            4260                    Budget Act      2019-07-08   \n",
       "4            4260                    Budget Act      2019-07-05   \n",
       "..            ...                           ...             ...   \n",
       "155          0690                    Budget Act      2019-07-26   \n",
       "156          0690                    Budget Act      2019-07-25   \n",
       "157          7870                Non-Budget Act      2019-07-31   \n",
       "158          0690                    Budget Act      2019-07-25   \n",
       "159          0690                    Budget Act      2019-07-26   \n",
       "\n",
       "                   fund_description  ...     _id  \\\n",
       "0    Safe Neighborhoods and Schools  ...     218   \n",
       "1                      General Fund  ...    5302   \n",
       "2    Safe Neighborhoods and Schools  ...    4509   \n",
       "3                Federal Trust Fund  ...   16980   \n",
       "4                Federal Trust Fund  ...   10283   \n",
       "..                              ...  ...     ...   \n",
       "155                    General Fund  ...  294551   \n",
       "156                    General Fund  ...  299334   \n",
       "157  Safe Neighborhoods and Schools  ...  305046   \n",
       "158                    General Fund  ...  314204   \n",
       "159                    General Fund  ...  310060   \n",
       "\n",
       "                   account_category    budget_reference_description  \\\n",
       "0    Other Special Items of Expense     Non-BA Local Assistance 601   \n",
       "1    Other Special Items of Expense         BA Local Assistance 111   \n",
       "2    Other Special Items of Expense     Non-BA Local Assistance 601   \n",
       "3    Other Special Items of Expense         BA Local Assistance 111   \n",
       "4    Other Special Items of Expense  BA State Operations-Support001   \n",
       "..                              ...                             ...   \n",
       "155  Other Special Items of Expense         BA Local Assistance 115   \n",
       "156  Other Special Items of Expense         BA Local Assistance 115   \n",
       "157  Other Special Items of Expense     Non-BA Local Assistance 601   \n",
       "158  Other Special Items of Expense         BA Local Assistance 115   \n",
       "159  Other Special Items of Expense         BA Local Assistance 115   \n",
       "\n",
       "                                            _full_text fund_code  \\\n",
       "0    '-01':11 '-07':10 '1':13 '2016':61 '2019':9,12...      3286   \n",
       "1    '-02':14 '-07':13 '0001':40 '1':16 '111':50,58...      0001   \n",
       "2    '-01':11 '-07':10 '1':13 '2016':63 '2019':9,12...      3286   \n",
       "3    '-07':13 '-08':14 '0890':39 '1':16 '111':53,61...      0890   \n",
       "4    '-05':14 '-07':13 '001':53 '0890':40 '1':16 '2...      0890   \n",
       "..                                                 ...       ...   \n",
       "155  '-07':11 '-26':12 '0001':38 '0385000':43 '0690...      0001   \n",
       "156  '-07':11 '-25':12 '0001':38 '0385000':43 '0690...      0001   \n",
       "157  '-07':10 '-31':11 '1':13 '2016':62 '2019':9,12...      3286   \n",
       "158  '-07':11 '-25':12 '0001':37 '0385000':42 '0690...      0001   \n",
       "159  '-07':11 '-26':12 '0001':37 '0385000':42 '0690...      0001   \n",
       "\n",
       "                   department_name                       vendor_name  \\\n",
       "0    Victim Compensation Board, CA        THE UNIVERSITY CORPORATION   \n",
       "1    State Dept Hlth Care Services    MATHIESEN MEMORIAL HLTH CLINIC   \n",
       "2    Victim Compensation Board, CA    SPECIAL SERVICE FOR GROUPS INC   \n",
       "3    State Dept Hlth Care Services          PLUMAS DISTRICT HOSPITAL   \n",
       "4    State Dept Hlth Care Services      CA HEALTH FOUNDATION & TRUST   \n",
       "..                             ...                               ...   \n",
       "155   Office of Emergency Services    COMMUNITY HOSPITAL OF MONTEREY   \n",
       "156   Office of Emergency Services      REDDING OCCUPATIONAL MED CTR   \n",
       "157  Victim Compensation Board, CA  PARTNERSHIPS FOR TRAUMA RECOVERY   \n",
       "158   Office of Emergency Services        CENTER FOR NEUROPSYCHOLOGY   \n",
       "159   Office of Emergency Services        MITCHELL INTERNATIONAL INC   \n",
       "\n",
       "              program_description  year_of_enactment related_document  \n",
       "0             Victim Compensation               2016                   \n",
       "1                Clearing Account               2018                   \n",
       "2             Victim Compensation               2016                   \n",
       "3            Health Care Services               2018                   \n",
       "4            Health Care Services               2018                   \n",
       "..                            ...                ...              ...  \n",
       "155  Special Pgrms and Grant Mgmt               2019                   \n",
       "156  Special Pgrms and Grant Mgmt               2019                   \n",
       "157           Victim Compensation               2016                   \n",
       "158  Special Pgrms and Grant Mgmt               2019                   \n",
       "159  Special Pgrms and Grant Mgmt               2019                   \n",
       "\n",
       "[160 rows x 28 columns]"
      ]
     },
     "execution_count": 25,
     "metadata": {},
     "output_type": "execute_result"
    }
   ],
   "source": [
    "# SELECT * from <resoure id> WHERE account LIKE 5442000 (Medical and Health Care Payments)\n",
    "accounts_url = \"https://data.ca.gov/api/3/action/datastore_search_sql?sql=SELECT%20*%20from%20%2223460e28-6a4b-419d-997e-7c51251e733e%22%20WHERE%20%22account%22%20LIKE%20%275442000%27\"\n",
    "accounts_response = requests.get(accounts_url)\n",
    "accounts_json = accounts_response.json()\n",
    "accounts_records = pd.DataFrame(accounts_json['result']['records'])\n",
    "accounts_records"
   ]
  },
  {
   "cell_type": "markdown",
   "metadata": {},
   "source": [
    "## Use a loop to get data from all resources\n",
    "\n",
    "Using the vendor_resource_ids vector we created earlier, this script loops through all of the resource IDs and gets information for the specified account code for all months. This example uses Account Code 5326100, which is “electricity”.\n",
    "\n",
    "Note that by default, a query will return no more than 100 rows. However, the limit can be adjusted to return up to 32,000 rows per query. This code adjusts the limit to the maximum and then checks whether the total number of records that match the query is greater than 32,000. If it is, the code loops through the query as many times as necessary to return all the matching records from a given resource before moving on to the next."
   ]
  },
  {
   "cell_type": "code",
   "execution_count": 29,
   "metadata": {},
   "outputs": [
    {
     "data": {
      "text/html": [
       "<div>\n",
       "<style scoped>\n",
       "    .dataframe tbody tr th:only-of-type {\n",
       "        vertical-align: middle;\n",
       "    }\n",
       "\n",
       "    .dataframe tbody tr th {\n",
       "        vertical-align: top;\n",
       "    }\n",
       "\n",
       "    .dataframe thead th {\n",
       "        text-align: right;\n",
       "    }\n",
       "</style>\n",
       "<table border=\"1\" class=\"dataframe\">\n",
       "  <thead>\n",
       "    <tr style=\"text-align: right;\">\n",
       "      <th></th>\n",
       "      <th>fund_group</th>\n",
       "      <th>rank</th>\n",
       "      <th>budget_reference_category</th>\n",
       "      <th>fiscal_year_begin</th>\n",
       "      <th>accounting_period</th>\n",
       "      <th>program_code</th>\n",
       "      <th>account_sub_category</th>\n",
       "      <th>business_unit</th>\n",
       "      <th>budget_reference_sub_category</th>\n",
       "      <th>accounting_date</th>\n",
       "      <th>...</th>\n",
       "      <th>account</th>\n",
       "      <th>_id</th>\n",
       "      <th>account_category</th>\n",
       "      <th>budget_reference_description</th>\n",
       "      <th>fund_code</th>\n",
       "      <th>department_name</th>\n",
       "      <th>vendor_name</th>\n",
       "      <th>program_description</th>\n",
       "      <th>year_of_enactment</th>\n",
       "      <th>related_document</th>\n",
       "    </tr>\n",
       "  </thead>\n",
       "  <tbody>\n",
       "    <tr>\n",
       "      <th>0</th>\n",
       "      <td>General Fund</td>\n",
       "      <td>0.057309</td>\n",
       "      <td>State Operations</td>\n",
       "      <td>2019</td>\n",
       "      <td>1</td>\n",
       "      <td>9999000</td>\n",
       "      <td>Utilities</td>\n",
       "      <td>8570</td>\n",
       "      <td>Budget Act</td>\n",
       "      <td>2019-07-01</td>\n",
       "      <td>...</td>\n",
       "      <td>5326100</td>\n",
       "      <td>53</td>\n",
       "      <td>Utilities</td>\n",
       "      <td>BA State Operations-Support001</td>\n",
       "      <td>0001</td>\n",
       "      <td>Dept of Food &amp; Agriculture</td>\n",
       "      <td>SACRAMENTO MUNICIPAL UTIL DIST</td>\n",
       "      <td>Clearing Account</td>\n",
       "      <td>2018</td>\n",
       "      <td></td>\n",
       "    </tr>\n",
       "    <tr>\n",
       "      <th>1</th>\n",
       "      <td>General Fund</td>\n",
       "      <td>0.057309</td>\n",
       "      <td>State Operations</td>\n",
       "      <td>2019</td>\n",
       "      <td>1</td>\n",
       "      <td>9999000</td>\n",
       "      <td>Utilities</td>\n",
       "      <td>8570</td>\n",
       "      <td>Budget Act</td>\n",
       "      <td>2019-07-01</td>\n",
       "      <td>...</td>\n",
       "      <td>5326100</td>\n",
       "      <td>59</td>\n",
       "      <td>Utilities</td>\n",
       "      <td>BA State Operations-Support001</td>\n",
       "      <td>0001</td>\n",
       "      <td>Dept of Food &amp; Agriculture</td>\n",
       "      <td>SACRAMENTO MUNICIPAL UTIL DIST</td>\n",
       "      <td>Clearing Account</td>\n",
       "      <td>2018</td>\n",
       "      <td></td>\n",
       "    </tr>\n",
       "    <tr>\n",
       "      <th>2</th>\n",
       "      <td>Special Funds</td>\n",
       "      <td>0.057309</td>\n",
       "      <td>State Operations</td>\n",
       "      <td>2019</td>\n",
       "      <td>1</td>\n",
       "      <td>0140000</td>\n",
       "      <td>Utilities</td>\n",
       "      <td>0250</td>\n",
       "      <td>Budget Act</td>\n",
       "      <td>2019-07-01</td>\n",
       "      <td>...</td>\n",
       "      <td>5326100</td>\n",
       "      <td>242</td>\n",
       "      <td>Utilities</td>\n",
       "      <td>BA State Operations-Support001</td>\n",
       "      <td>3066</td>\n",
       "      <td>Judicial Branch</td>\n",
       "      <td>COUNTY OF NEVADA FACILITIES</td>\n",
       "      <td>Judicial Council</td>\n",
       "      <td>2018</td>\n",
       "      <td></td>\n",
       "    </tr>\n",
       "    <tr>\n",
       "      <th>3</th>\n",
       "      <td>Special Funds</td>\n",
       "      <td>0.057309</td>\n",
       "      <td>State Operations</td>\n",
       "      <td>2019</td>\n",
       "      <td>1</td>\n",
       "      <td>9999000</td>\n",
       "      <td>Utilities</td>\n",
       "      <td>3600</td>\n",
       "      <td>Budget Act</td>\n",
       "      <td>2019-07-01</td>\n",
       "      <td>...</td>\n",
       "      <td>5326100</td>\n",
       "      <td>293</td>\n",
       "      <td>Utilities</td>\n",
       "      <td>BA State Operations-Support001</td>\n",
       "      <td>0200</td>\n",
       "      <td>Department of Fish &amp; Wildlife</td>\n",
       "      <td>SACRAMENTO MUNICIPAL UTIL DIST</td>\n",
       "      <td>Clearing Account</td>\n",
       "      <td>2018</td>\n",
       "      <td></td>\n",
       "    </tr>\n",
       "    <tr>\n",
       "      <th>4</th>\n",
       "      <td>General Fund</td>\n",
       "      <td>0.057309</td>\n",
       "      <td>State Operations</td>\n",
       "      <td>2019</td>\n",
       "      <td>1</td>\n",
       "      <td>2465028</td>\n",
       "      <td>Utilities</td>\n",
       "      <td>3540</td>\n",
       "      <td>Budget Act</td>\n",
       "      <td>2019-07-01</td>\n",
       "      <td>...</td>\n",
       "      <td>5326100</td>\n",
       "      <td>563</td>\n",
       "      <td>Utilities</td>\n",
       "      <td>BA State Operations-Support001</td>\n",
       "      <td>0001</td>\n",
       "      <td>Dept. Forestry &amp; Fire Protectn</td>\n",
       "      <td>PACIFIC GAS &amp; ELECTRIC CO</td>\n",
       "      <td>Fire Protection</td>\n",
       "      <td>2018</td>\n",
       "      <td></td>\n",
       "    </tr>\n",
       "    <tr>\n",
       "      <th>...</th>\n",
       "      <td>...</td>\n",
       "      <td>...</td>\n",
       "      <td>...</td>\n",
       "      <td>...</td>\n",
       "      <td>...</td>\n",
       "      <td>...</td>\n",
       "      <td>...</td>\n",
       "      <td>...</td>\n",
       "      <td>...</td>\n",
       "      <td>...</td>\n",
       "      <td>...</td>\n",
       "      <td>...</td>\n",
       "      <td>...</td>\n",
       "      <td>...</td>\n",
       "      <td>...</td>\n",
       "      <td>...</td>\n",
       "      <td>...</td>\n",
       "      <td>...</td>\n",
       "      <td>...</td>\n",
       "      <td>...</td>\n",
       "      <td>...</td>\n",
       "    </tr>\n",
       "    <tr>\n",
       "      <th>2366</th>\n",
       "      <td>Special Funds</td>\n",
       "      <td>0.057309</td>\n",
       "      <td>State Operations</td>\n",
       "      <td>2022</td>\n",
       "      <td>9</td>\n",
       "      <td>0140023</td>\n",
       "      <td>Utilities</td>\n",
       "      <td>0250</td>\n",
       "      <td>Budget Act</td>\n",
       "      <td>2023-03-17</td>\n",
       "      <td>...</td>\n",
       "      <td>5326100</td>\n",
       "      <td>280518</td>\n",
       "      <td>Utilities</td>\n",
       "      <td>BA State Operations-Support001</td>\n",
       "      <td>3066</td>\n",
       "      <td>Judicial Branch</td>\n",
       "      <td>COUNTY OF SAN DIEGO</td>\n",
       "      <td>Judicial Council</td>\n",
       "      <td>2021</td>\n",
       "      <td></td>\n",
       "    </tr>\n",
       "    <tr>\n",
       "      <th>2367</th>\n",
       "      <td>General Fund</td>\n",
       "      <td>0.057309</td>\n",
       "      <td>State Operations</td>\n",
       "      <td>2022</td>\n",
       "      <td>9</td>\n",
       "      <td>9999000</td>\n",
       "      <td>Utilities</td>\n",
       "      <td>0690</td>\n",
       "      <td>Budget Act</td>\n",
       "      <td>2023-03-22</td>\n",
       "      <td>...</td>\n",
       "      <td>5326100</td>\n",
       "      <td>282377</td>\n",
       "      <td>Utilities</td>\n",
       "      <td>BA State Operations-Support001</td>\n",
       "      <td>0001</td>\n",
       "      <td>Office of Emergency Services</td>\n",
       "      <td>SACRAMENTO MUNICIPAL UTIL DIST</td>\n",
       "      <td>Clearing Account</td>\n",
       "      <td>2022</td>\n",
       "      <td></td>\n",
       "    </tr>\n",
       "    <tr>\n",
       "      <th>2368</th>\n",
       "      <td>General Fund</td>\n",
       "      <td>0.057309</td>\n",
       "      <td>State Operations</td>\n",
       "      <td>2022</td>\n",
       "      <td>9</td>\n",
       "      <td>9999000</td>\n",
       "      <td>Utilities</td>\n",
       "      <td>8570</td>\n",
       "      <td>Budget Act</td>\n",
       "      <td>2023-03-23</td>\n",
       "      <td>...</td>\n",
       "      <td>5326100</td>\n",
       "      <td>280903</td>\n",
       "      <td>Utilities</td>\n",
       "      <td>BA State Operations-Support001</td>\n",
       "      <td>0001</td>\n",
       "      <td>Dept of Food &amp; Agriculture</td>\n",
       "      <td>SACRAMENTO MUNICIPAL UTIL DIST</td>\n",
       "      <td>Clearing Account</td>\n",
       "      <td>2022</td>\n",
       "      <td></td>\n",
       "    </tr>\n",
       "    <tr>\n",
       "      <th>2369</th>\n",
       "      <td>Special Funds</td>\n",
       "      <td>0.057309</td>\n",
       "      <td>State Operations</td>\n",
       "      <td>2022</td>\n",
       "      <td>9</td>\n",
       "      <td>0140023</td>\n",
       "      <td>Utilities</td>\n",
       "      <td>0250</td>\n",
       "      <td>Budget Act</td>\n",
       "      <td>2023-03-21</td>\n",
       "      <td>...</td>\n",
       "      <td>5326100</td>\n",
       "      <td>245759</td>\n",
       "      <td>Utilities</td>\n",
       "      <td>BA State Operations-Support001</td>\n",
       "      <td>3066</td>\n",
       "      <td>Judicial Branch</td>\n",
       "      <td>CITY OF RIVERSIDE</td>\n",
       "      <td>Judicial Council</td>\n",
       "      <td>2022</td>\n",
       "      <td></td>\n",
       "    </tr>\n",
       "    <tr>\n",
       "      <th>2370</th>\n",
       "      <td>Special Funds</td>\n",
       "      <td>0.057309</td>\n",
       "      <td>State Operations</td>\n",
       "      <td>2022</td>\n",
       "      <td>9</td>\n",
       "      <td>1420025</td>\n",
       "      <td>Utilities</td>\n",
       "      <td>1111</td>\n",
       "      <td>Budget Act</td>\n",
       "      <td>2023-03-03</td>\n",
       "      <td>...</td>\n",
       "      <td>5326100</td>\n",
       "      <td>212701</td>\n",
       "      <td>Utilities</td>\n",
       "      <td>BA State Operations-Support002</td>\n",
       "      <td>0421</td>\n",
       "      <td>Department of Consumer Affairs</td>\n",
       "      <td>SACRAMENTO MUNICIPAL UTIL DIST</td>\n",
       "      <td>Bureau of Automotive Repair</td>\n",
       "      <td>2022</td>\n",
       "      <td></td>\n",
       "    </tr>\n",
       "  </tbody>\n",
       "</table>\n",
       "<p>101162 rows × 28 columns</p>\n",
       "</div>"
      ],
      "text/plain": [
       "         fund_group      rank budget_reference_category fiscal_year_begin  \\\n",
       "0      General Fund  0.057309          State Operations              2019   \n",
       "1      General Fund  0.057309          State Operations              2019   \n",
       "2     Special Funds  0.057309          State Operations              2019   \n",
       "3     Special Funds  0.057309          State Operations              2019   \n",
       "4      General Fund  0.057309          State Operations              2019   \n",
       "...             ...       ...                       ...               ...   \n",
       "2366  Special Funds  0.057309          State Operations              2022   \n",
       "2367   General Fund  0.057309          State Operations              2022   \n",
       "2368   General Fund  0.057309          State Operations              2022   \n",
       "2369  Special Funds  0.057309          State Operations              2022   \n",
       "2370  Special Funds  0.057309          State Operations              2022   \n",
       "\n",
       "     accounting_period program_code account_sub_category business_unit  \\\n",
       "0                    1      9999000            Utilities          8570   \n",
       "1                    1      9999000            Utilities          8570   \n",
       "2                    1      0140000            Utilities          0250   \n",
       "3                    1      9999000            Utilities          3600   \n",
       "4                    1      2465028            Utilities          3540   \n",
       "...                ...          ...                  ...           ...   \n",
       "2366                 9      0140023            Utilities          0250   \n",
       "2367                 9      9999000            Utilities          0690   \n",
       "2368                 9      9999000            Utilities          8570   \n",
       "2369                 9      0140023            Utilities          0250   \n",
       "2370                 9      1420025            Utilities          1111   \n",
       "\n",
       "     budget_reference_sub_category accounting_date  ...  account     _id  \\\n",
       "0                       Budget Act      2019-07-01  ...  5326100      53   \n",
       "1                       Budget Act      2019-07-01  ...  5326100      59   \n",
       "2                       Budget Act      2019-07-01  ...  5326100     242   \n",
       "3                       Budget Act      2019-07-01  ...  5326100     293   \n",
       "4                       Budget Act      2019-07-01  ...  5326100     563   \n",
       "...                            ...             ...  ...      ...     ...   \n",
       "2366                    Budget Act      2023-03-17  ...  5326100  280518   \n",
       "2367                    Budget Act      2023-03-22  ...  5326100  282377   \n",
       "2368                    Budget Act      2023-03-23  ...  5326100  280903   \n",
       "2369                    Budget Act      2023-03-21  ...  5326100  245759   \n",
       "2370                    Budget Act      2023-03-03  ...  5326100  212701   \n",
       "\n",
       "     account_category    budget_reference_description fund_code  \\\n",
       "0           Utilities  BA State Operations-Support001      0001   \n",
       "1           Utilities  BA State Operations-Support001      0001   \n",
       "2           Utilities  BA State Operations-Support001      3066   \n",
       "3           Utilities  BA State Operations-Support001      0200   \n",
       "4           Utilities  BA State Operations-Support001      0001   \n",
       "...               ...                             ...       ...   \n",
       "2366        Utilities  BA State Operations-Support001      3066   \n",
       "2367        Utilities  BA State Operations-Support001      0001   \n",
       "2368        Utilities  BA State Operations-Support001      0001   \n",
       "2369        Utilities  BA State Operations-Support001      3066   \n",
       "2370        Utilities  BA State Operations-Support002      0421   \n",
       "\n",
       "                     department_name                     vendor_name  \\\n",
       "0         Dept of Food & Agriculture  SACRAMENTO MUNICIPAL UTIL DIST   \n",
       "1         Dept of Food & Agriculture  SACRAMENTO MUNICIPAL UTIL DIST   \n",
       "2                    Judicial Branch     COUNTY OF NEVADA FACILITIES   \n",
       "3      Department of Fish & Wildlife  SACRAMENTO MUNICIPAL UTIL DIST   \n",
       "4     Dept. Forestry & Fire Protectn       PACIFIC GAS & ELECTRIC CO   \n",
       "...                              ...                             ...   \n",
       "2366                 Judicial Branch             COUNTY OF SAN DIEGO   \n",
       "2367    Office of Emergency Services  SACRAMENTO MUNICIPAL UTIL DIST   \n",
       "2368      Dept of Food & Agriculture  SACRAMENTO MUNICIPAL UTIL DIST   \n",
       "2369                 Judicial Branch               CITY OF RIVERSIDE   \n",
       "2370  Department of Consumer Affairs  SACRAMENTO MUNICIPAL UTIL DIST   \n",
       "\n",
       "              program_description year_of_enactment  related_document  \n",
       "0                Clearing Account              2018                    \n",
       "1                Clearing Account              2018                    \n",
       "2                Judicial Council              2018                    \n",
       "3                Clearing Account              2018                    \n",
       "4                 Fire Protection              2018                    \n",
       "...                           ...               ...               ...  \n",
       "2366             Judicial Council              2021                    \n",
       "2367             Clearing Account              2022                    \n",
       "2368             Clearing Account              2022                    \n",
       "2369             Judicial Council              2022                    \n",
       "2370  Bureau of Automotive Repair              2022                    \n",
       "\n",
       "[101162 rows x 28 columns]"
      ]
     },
     "execution_count": 29,
     "metadata": {},
     "output_type": "execute_result"
    }
   ],
   "source": [
    "FISCal_list = [] # a list to hold data from all resources for easy concatination at the end\n",
    "account_code_query = \"&q=5326100\" #This is the account code for \"Electricity\"\n",
    "\n",
    "# Use a for loop to iterate through each resource in the list - Note: this takes a while\n",
    "for item in vendor_resource_ids.loc[37:len(vendor_resource_ids.index)]:\n",
    "    temp_response = requests.get(\"https://data.ca.gov/api/3/action/datastore_search?&resource_id=\" + item + \"&limit=32000\" + account_code_query)\n",
    "    temp_json = temp_response.json()\n",
    "    temp_records = pd.DataFrame(temp_json['result']['records'])\n",
    "    num_rows = temp_json['result']['total'] # the number of records in the resource that match the query, which might be more than the 32K row max query limit\n",
    "    resource_loops = 1\n",
    "    #The following loop only runs if the number of matching records exceeds the 32K row max query limit, adding records until all the records that match the query are in the data frame\n",
    "    while (num_rows > len(temp_records)) :\n",
    "        offset = 32000 * resource_loops\n",
    "        temp_response = requests.get(\"https://data.ca.gov/api/3/action/datastore_search?&resource_id=\" + item + \"&limit=32000\" + account_code_query + \"&offset=\" + offset)\n",
    "        temp_json = temp_response.json()\n",
    "        temp_records = pd.concat([temp_records, pd.DataFrame(temp_json['result']['records'])])\n",
    "        resource_loops = resource_loops + 1\n",
    "    \n",
    "    FISCal_list.append(temp_records) #this drops the resulting data frame into the list\n",
    "  \n",
    "FISCal = pd.concat(FISCal_list) # combines all list items into one data frame\n",
    "FISCal"
   ]
  },
  {
   "cell_type": "markdown",
   "metadata": {},
   "source": [
    "# Data Processing\n",
    "\n",
    "Many of the columns are in `string` format, so we should convert them to a `numerical` format, convert the accounting date column to `datetime` format, drop the empty `Related Document` column, and drop rows with null fields. "
   ]
  },
  {
   "cell_type": "code",
   "execution_count": 30,
   "metadata": {},
   "outputs": [
    {
     "name": "stdout",
     "output_type": "stream",
     "text": [
      "<class 'pandas.core.frame.DataFrame'>\n",
      "Int64Index: 101162 entries, 0 to 2370\n",
      "Data columns (total 28 columns):\n",
      " #   Column                         Non-Null Count   Dtype  \n",
      "---  ------                         --------------   -----  \n",
      " 0   fund_group                     101162 non-null  object \n",
      " 1   rank                           101162 non-null  float64\n",
      " 2   budget_reference_category      101162 non-null  object \n",
      " 3   fiscal_year_begin              101162 non-null  object \n",
      " 4   accounting_period              101162 non-null  object \n",
      " 5   program_code                   101162 non-null  object \n",
      " 6   account_sub_category           101162 non-null  object \n",
      " 7   business_unit                  101162 non-null  object \n",
      " 8   budget_reference_sub_category  101162 non-null  object \n",
      " 9   accounting_date                101162 non-null  object \n",
      " 10  fund_description               101162 non-null  object \n",
      " 11  account_type                   101162 non-null  object \n",
      " 12  budget_reference               101162 non-null  object \n",
      " 13  monetary_amount                101162 non-null  object \n",
      " 14  account_description            101162 non-null  object \n",
      " 15  agency_name                    101162 non-null  object \n",
      " 16  sub_program_description        101162 non-null  object \n",
      " 17  document_id                    101162 non-null  object \n",
      " 18  account                        101162 non-null  object \n",
      " 19  _id                            101162 non-null  int64  \n",
      " 20  account_category               101162 non-null  object \n",
      " 21  budget_reference_description   101162 non-null  object \n",
      " 22  fund_code                      101162 non-null  object \n",
      " 23  department_name                101162 non-null  object \n",
      " 24  vendor_name                    101162 non-null  object \n",
      " 25  program_description            101162 non-null  object \n",
      " 26  year_of_enactment              101162 non-null  object \n",
      " 27  related_document               101162 non-null  object \n",
      "dtypes: float64(1), int64(1), object(26)\n",
      "memory usage: 22.4+ MB\n"
     ]
    }
   ],
   "source": [
    "# start by checking what format each columnn is in\n",
    "FISCal.info()"
   ]
  },
  {
   "cell_type": "code",
   "execution_count": 31,
   "metadata": {},
   "outputs": [
    {
     "name": "stdout",
     "output_type": "stream",
     "text": [
      "<class 'pandas.core.frame.DataFrame'>\n",
      "Int64Index: 101162 entries, 0 to 2370\n",
      "Data columns (total 27 columns):\n",
      " #   Column                         Non-Null Count   Dtype         \n",
      "---  ------                         --------------   -----         \n",
      " 0   fund_group                     101162 non-null  object        \n",
      " 1   rank                           101162 non-null  float64       \n",
      " 2   budget_reference_category      101162 non-null  object        \n",
      " 3   fiscal_year_begin              101162 non-null  int32         \n",
      " 4   accounting_period              101162 non-null  int32         \n",
      " 5   program_code                   101162 non-null  object        \n",
      " 6   account_sub_category           101162 non-null  object        \n",
      " 7   business_unit                  101162 non-null  object        \n",
      " 8   budget_reference_sub_category  101162 non-null  object        \n",
      " 9   accounting_date                101162 non-null  datetime64[ns]\n",
      " 10  fund_description               101162 non-null  object        \n",
      " 11  account_type                   101162 non-null  object        \n",
      " 12  budget_reference               101162 non-null  object        \n",
      " 13  monetary_amount                101162 non-null  float64       \n",
      " 14  account_description            101162 non-null  object        \n",
      " 15  agency_name                    101162 non-null  object        \n",
      " 16  sub_program_description        101162 non-null  object        \n",
      " 17  document_id                    101162 non-null  object        \n",
      " 18  account                        101162 non-null  object        \n",
      " 19  _id                            101162 non-null  int64         \n",
      " 20  account_category               101162 non-null  object        \n",
      " 21  budget_reference_description   101162 non-null  object        \n",
      " 22  fund_code                      101162 non-null  object        \n",
      " 23  department_name                101162 non-null  object        \n",
      " 24  vendor_name                    101162 non-null  object        \n",
      " 25  program_description            101162 non-null  object        \n",
      " 26  year_of_enactment              101162 non-null  int32         \n",
      "dtypes: datetime64[ns](1), float64(2), int32(3), int64(1), object(20)\n",
      "memory usage: 20.5+ MB\n"
     ]
    }
   ],
   "source": [
    "# make a copy of the dataframe for cleaning\n",
    "FISCal_clean = FISCal.copy()\n",
    "\n",
    "# note above how many of the columns are in object/string format, so lets change some to numerical values\n",
    "FISCal_clean = FISCal_clean.astype({\n",
    "    'accounting_period' : 'int32',\n",
    "    'year_of_enactment' : 'int32',\n",
    "    'monetary_amount' : 'float',\n",
    "    'fiscal_year_begin' : 'int32'\n",
    "})\n",
    "\n",
    "# convert accounting dates to datetime format\n",
    "FISCal_clean['accounting_date'] = pd.to_datetime(FISCal_clean['accounting_date'])\n",
    "\n",
    "# drop the empty related document column\n",
    "FISCal_clean.drop(labels='related_document', axis=1, inplace=True)\n",
    "\n",
    "# drop rows with nulls\n",
    "FISCal_clean.dropna(inplace=True)\n",
    "\n",
    "# preview results\n",
    "FISCal_clean.info()"
   ]
  },
  {
   "cell_type": "markdown",
   "metadata": {},
   "source": [
    "## Data Exploration\n",
    "We can use pandas to explore the data a bit, for instance we can view the vendors by `Monetary Amount` or total transactions."
   ]
  },
  {
   "cell_type": "code",
   "execution_count": 32,
   "metadata": {},
   "outputs": [
    {
     "name": "stderr",
     "output_type": "stream",
     "text": [
      "/tmp/ipykernel_55426/609757974.py:2: FutureWarning:\n",
      "\n",
      "The default value of numeric_only in DataFrameGroupBy.sum is deprecated. In a future version, numeric_only will default to False. Either specify numeric_only or select only columns which should be valid for the function.\n",
      "\n"
     ]
    },
    {
     "data": {
      "text/plain": [
       "vendor_name\n",
       "BRE INDUSTRIAL VIII HOLCO LLC    -6.843540e+03\n",
       "COUNTY OF PLUMAS                 -1.644900e+02\n",
       "ADVANTAGE TOTAL PROTECTION INC    0.000000e+00\n",
       "ABM INDUSTRY GROUPS LLC           0.000000e+00\n",
       "B & H RENTALS                     0.000000e+00\n",
       "                                      ...     \n",
       "SAN DIEGO GAS & ELECTRIC CO       2.062958e+07\n",
       "LA DEPT OF WATER & POWER          2.756693e+07\n",
       "SACRAMENTO MUNICIPAL UTIL DIST    7.170668e+07\n",
       "SOUTHERN CA EDISON CO             7.817610e+07\n",
       "PACIFIC GAS & ELECTRIC CO         1.467138e+08\n",
       "Name: monetary_amount, Length: 277, dtype: float64"
      ]
     },
     "execution_count": 32,
     "metadata": {},
     "output_type": "execute_result"
    }
   ],
   "source": [
    "# group by vendor name and sum \"Monetary Amount\"\n",
    "vendor_monetary_sum = FISCal_clean.groupby(['vendor_name']).agg('sum').sort_values(by='monetary_amount')['monetary_amount']\n",
    "vendor_monetary_sum"
   ]
  },
  {
   "cell_type": "code",
   "execution_count": 33,
   "metadata": {},
   "outputs": [
    {
     "data": {
      "application/vnd.plotly.v1+json": {
       "config": {
        "linkText": "Export to plot.ly",
        "plotlyServerURL": "https://plot.ly",
        "showLink": true
       },
       "data": [
        {
         "marker": {
          "color": "rgba(255, 153, 51, 0.6)",
          "line": {
           "color": "rgba(255, 153, 51, 1.0)",
           "width": 1
          }
         },
         "name": "monetary_amount",
         "orientation": "h",
         "text": "",
         "type": "bar",
         "x": [
          3104757.79,
          4040374.04,
          4447737,
          4487188.27,
          9546185.88,
          20629579.95,
          27566927.07,
          71706683.83,
          78176100.24,
          146713793.93
         ],
         "y": [
          "CITY OF REDDING",
          "CITY OF RIVERSIDE PUBLIC UTILITIES",
          "ORANGE COUNTY",
          "DEPT OF GENERAL SERVICES",
          "LOS ANGELES COUNTY",
          "SAN DIEGO GAS & ELECTRIC CO",
          "LA DEPT OF WATER & POWER",
          "SACRAMENTO MUNICIPAL UTIL DIST",
          "SOUTHERN CA EDISON CO",
          "PACIFIC GAS & ELECTRIC CO"
         ]
        }
       ],
       "layout": {
        "legend": {
         "bgcolor": "#F5F6F9",
         "font": {
          "color": "#4D5663"
         }
        },
        "paper_bgcolor": "#F5F6F9",
        "plot_bgcolor": "#F5F6F9",
        "template": {
         "data": {
          "bar": [
           {
            "error_x": {
             "color": "#2a3f5f"
            },
            "error_y": {
             "color": "#2a3f5f"
            },
            "marker": {
             "line": {
              "color": "#E5ECF6",
              "width": 0.5
             },
             "pattern": {
              "fillmode": "overlay",
              "size": 10,
              "solidity": 0.2
             }
            },
            "type": "bar"
           }
          ],
          "barpolar": [
           {
            "marker": {
             "line": {
              "color": "#E5ECF6",
              "width": 0.5
             },
             "pattern": {
              "fillmode": "overlay",
              "size": 10,
              "solidity": 0.2
             }
            },
            "type": "barpolar"
           }
          ],
          "carpet": [
           {
            "aaxis": {
             "endlinecolor": "#2a3f5f",
             "gridcolor": "white",
             "linecolor": "white",
             "minorgridcolor": "white",
             "startlinecolor": "#2a3f5f"
            },
            "baxis": {
             "endlinecolor": "#2a3f5f",
             "gridcolor": "white",
             "linecolor": "white",
             "minorgridcolor": "white",
             "startlinecolor": "#2a3f5f"
            },
            "type": "carpet"
           }
          ],
          "choropleth": [
           {
            "colorbar": {
             "outlinewidth": 0,
             "ticks": ""
            },
            "type": "choropleth"
           }
          ],
          "contour": [
           {
            "colorbar": {
             "outlinewidth": 0,
             "ticks": ""
            },
            "colorscale": [
             [
              0,
              "#0d0887"
             ],
             [
              0.1111111111111111,
              "#46039f"
             ],
             [
              0.2222222222222222,
              "#7201a8"
             ],
             [
              0.3333333333333333,
              "#9c179e"
             ],
             [
              0.4444444444444444,
              "#bd3786"
             ],
             [
              0.5555555555555556,
              "#d8576b"
             ],
             [
              0.6666666666666666,
              "#ed7953"
             ],
             [
              0.7777777777777778,
              "#fb9f3a"
             ],
             [
              0.8888888888888888,
              "#fdca26"
             ],
             [
              1,
              "#f0f921"
             ]
            ],
            "type": "contour"
           }
          ],
          "contourcarpet": [
           {
            "colorbar": {
             "outlinewidth": 0,
             "ticks": ""
            },
            "type": "contourcarpet"
           }
          ],
          "heatmap": [
           {
            "colorbar": {
             "outlinewidth": 0,
             "ticks": ""
            },
            "colorscale": [
             [
              0,
              "#0d0887"
             ],
             [
              0.1111111111111111,
              "#46039f"
             ],
             [
              0.2222222222222222,
              "#7201a8"
             ],
             [
              0.3333333333333333,
              "#9c179e"
             ],
             [
              0.4444444444444444,
              "#bd3786"
             ],
             [
              0.5555555555555556,
              "#d8576b"
             ],
             [
              0.6666666666666666,
              "#ed7953"
             ],
             [
              0.7777777777777778,
              "#fb9f3a"
             ],
             [
              0.8888888888888888,
              "#fdca26"
             ],
             [
              1,
              "#f0f921"
             ]
            ],
            "type": "heatmap"
           }
          ],
          "heatmapgl": [
           {
            "colorbar": {
             "outlinewidth": 0,
             "ticks": ""
            },
            "colorscale": [
             [
              0,
              "#0d0887"
             ],
             [
              0.1111111111111111,
              "#46039f"
             ],
             [
              0.2222222222222222,
              "#7201a8"
             ],
             [
              0.3333333333333333,
              "#9c179e"
             ],
             [
              0.4444444444444444,
              "#bd3786"
             ],
             [
              0.5555555555555556,
              "#d8576b"
             ],
             [
              0.6666666666666666,
              "#ed7953"
             ],
             [
              0.7777777777777778,
              "#fb9f3a"
             ],
             [
              0.8888888888888888,
              "#fdca26"
             ],
             [
              1,
              "#f0f921"
             ]
            ],
            "type": "heatmapgl"
           }
          ],
          "histogram": [
           {
            "marker": {
             "pattern": {
              "fillmode": "overlay",
              "size": 10,
              "solidity": 0.2
             }
            },
            "type": "histogram"
           }
          ],
          "histogram2d": [
           {
            "colorbar": {
             "outlinewidth": 0,
             "ticks": ""
            },
            "colorscale": [
             [
              0,
              "#0d0887"
             ],
             [
              0.1111111111111111,
              "#46039f"
             ],
             [
              0.2222222222222222,
              "#7201a8"
             ],
             [
              0.3333333333333333,
              "#9c179e"
             ],
             [
              0.4444444444444444,
              "#bd3786"
             ],
             [
              0.5555555555555556,
              "#d8576b"
             ],
             [
              0.6666666666666666,
              "#ed7953"
             ],
             [
              0.7777777777777778,
              "#fb9f3a"
             ],
             [
              0.8888888888888888,
              "#fdca26"
             ],
             [
              1,
              "#f0f921"
             ]
            ],
            "type": "histogram2d"
           }
          ],
          "histogram2dcontour": [
           {
            "colorbar": {
             "outlinewidth": 0,
             "ticks": ""
            },
            "colorscale": [
             [
              0,
              "#0d0887"
             ],
             [
              0.1111111111111111,
              "#46039f"
             ],
             [
              0.2222222222222222,
              "#7201a8"
             ],
             [
              0.3333333333333333,
              "#9c179e"
             ],
             [
              0.4444444444444444,
              "#bd3786"
             ],
             [
              0.5555555555555556,
              "#d8576b"
             ],
             [
              0.6666666666666666,
              "#ed7953"
             ],
             [
              0.7777777777777778,
              "#fb9f3a"
             ],
             [
              0.8888888888888888,
              "#fdca26"
             ],
             [
              1,
              "#f0f921"
             ]
            ],
            "type": "histogram2dcontour"
           }
          ],
          "mesh3d": [
           {
            "colorbar": {
             "outlinewidth": 0,
             "ticks": ""
            },
            "type": "mesh3d"
           }
          ],
          "parcoords": [
           {
            "line": {
             "colorbar": {
              "outlinewidth": 0,
              "ticks": ""
             }
            },
            "type": "parcoords"
           }
          ],
          "pie": [
           {
            "automargin": true,
            "type": "pie"
           }
          ],
          "scatter": [
           {
            "fillpattern": {
             "fillmode": "overlay",
             "size": 10,
             "solidity": 0.2
            },
            "type": "scatter"
           }
          ],
          "scatter3d": [
           {
            "line": {
             "colorbar": {
              "outlinewidth": 0,
              "ticks": ""
             }
            },
            "marker": {
             "colorbar": {
              "outlinewidth": 0,
              "ticks": ""
             }
            },
            "type": "scatter3d"
           }
          ],
          "scattercarpet": [
           {
            "marker": {
             "colorbar": {
              "outlinewidth": 0,
              "ticks": ""
             }
            },
            "type": "scattercarpet"
           }
          ],
          "scattergeo": [
           {
            "marker": {
             "colorbar": {
              "outlinewidth": 0,
              "ticks": ""
             }
            },
            "type": "scattergeo"
           }
          ],
          "scattergl": [
           {
            "marker": {
             "colorbar": {
              "outlinewidth": 0,
              "ticks": ""
             }
            },
            "type": "scattergl"
           }
          ],
          "scattermapbox": [
           {
            "marker": {
             "colorbar": {
              "outlinewidth": 0,
              "ticks": ""
             }
            },
            "type": "scattermapbox"
           }
          ],
          "scatterpolar": [
           {
            "marker": {
             "colorbar": {
              "outlinewidth": 0,
              "ticks": ""
             }
            },
            "type": "scatterpolar"
           }
          ],
          "scatterpolargl": [
           {
            "marker": {
             "colorbar": {
              "outlinewidth": 0,
              "ticks": ""
             }
            },
            "type": "scatterpolargl"
           }
          ],
          "scatterternary": [
           {
            "marker": {
             "colorbar": {
              "outlinewidth": 0,
              "ticks": ""
             }
            },
            "type": "scatterternary"
           }
          ],
          "surface": [
           {
            "colorbar": {
             "outlinewidth": 0,
             "ticks": ""
            },
            "colorscale": [
             [
              0,
              "#0d0887"
             ],
             [
              0.1111111111111111,
              "#46039f"
             ],
             [
              0.2222222222222222,
              "#7201a8"
             ],
             [
              0.3333333333333333,
              "#9c179e"
             ],
             [
              0.4444444444444444,
              "#bd3786"
             ],
             [
              0.5555555555555556,
              "#d8576b"
             ],
             [
              0.6666666666666666,
              "#ed7953"
             ],
             [
              0.7777777777777778,
              "#fb9f3a"
             ],
             [
              0.8888888888888888,
              "#fdca26"
             ],
             [
              1,
              "#f0f921"
             ]
            ],
            "type": "surface"
           }
          ],
          "table": [
           {
            "cells": {
             "fill": {
              "color": "#EBF0F8"
             },
             "line": {
              "color": "white"
             }
            },
            "header": {
             "fill": {
              "color": "#C8D4E3"
             },
             "line": {
              "color": "white"
             }
            },
            "type": "table"
           }
          ]
         },
         "layout": {
          "annotationdefaults": {
           "arrowcolor": "#2a3f5f",
           "arrowhead": 0,
           "arrowwidth": 1
          },
          "autotypenumbers": "strict",
          "coloraxis": {
           "colorbar": {
            "outlinewidth": 0,
            "ticks": ""
           }
          },
          "colorscale": {
           "diverging": [
            [
             0,
             "#8e0152"
            ],
            [
             0.1,
             "#c51b7d"
            ],
            [
             0.2,
             "#de77ae"
            ],
            [
             0.3,
             "#f1b6da"
            ],
            [
             0.4,
             "#fde0ef"
            ],
            [
             0.5,
             "#f7f7f7"
            ],
            [
             0.6,
             "#e6f5d0"
            ],
            [
             0.7,
             "#b8e186"
            ],
            [
             0.8,
             "#7fbc41"
            ],
            [
             0.9,
             "#4d9221"
            ],
            [
             1,
             "#276419"
            ]
           ],
           "sequential": [
            [
             0,
             "#0d0887"
            ],
            [
             0.1111111111111111,
             "#46039f"
            ],
            [
             0.2222222222222222,
             "#7201a8"
            ],
            [
             0.3333333333333333,
             "#9c179e"
            ],
            [
             0.4444444444444444,
             "#bd3786"
            ],
            [
             0.5555555555555556,
             "#d8576b"
            ],
            [
             0.6666666666666666,
             "#ed7953"
            ],
            [
             0.7777777777777778,
             "#fb9f3a"
            ],
            [
             0.8888888888888888,
             "#fdca26"
            ],
            [
             1,
             "#f0f921"
            ]
           ],
           "sequentialminus": [
            [
             0,
             "#0d0887"
            ],
            [
             0.1111111111111111,
             "#46039f"
            ],
            [
             0.2222222222222222,
             "#7201a8"
            ],
            [
             0.3333333333333333,
             "#9c179e"
            ],
            [
             0.4444444444444444,
             "#bd3786"
            ],
            [
             0.5555555555555556,
             "#d8576b"
            ],
            [
             0.6666666666666666,
             "#ed7953"
            ],
            [
             0.7777777777777778,
             "#fb9f3a"
            ],
            [
             0.8888888888888888,
             "#fdca26"
            ],
            [
             1,
             "#f0f921"
            ]
           ]
          },
          "colorway": [
           "#636efa",
           "#EF553B",
           "#00cc96",
           "#ab63fa",
           "#FFA15A",
           "#19d3f3",
           "#FF6692",
           "#B6E880",
           "#FF97FF",
           "#FECB52"
          ],
          "font": {
           "color": "#2a3f5f"
          },
          "geo": {
           "bgcolor": "white",
           "lakecolor": "white",
           "landcolor": "#E5ECF6",
           "showlakes": true,
           "showland": true,
           "subunitcolor": "white"
          },
          "hoverlabel": {
           "align": "left"
          },
          "hovermode": "closest",
          "mapbox": {
           "style": "light"
          },
          "paper_bgcolor": "white",
          "plot_bgcolor": "#E5ECF6",
          "polar": {
           "angularaxis": {
            "gridcolor": "white",
            "linecolor": "white",
            "ticks": ""
           },
           "bgcolor": "#E5ECF6",
           "radialaxis": {
            "gridcolor": "white",
            "linecolor": "white",
            "ticks": ""
           }
          },
          "scene": {
           "xaxis": {
            "backgroundcolor": "#E5ECF6",
            "gridcolor": "white",
            "gridwidth": 2,
            "linecolor": "white",
            "showbackground": true,
            "ticks": "",
            "zerolinecolor": "white"
           },
           "yaxis": {
            "backgroundcolor": "#E5ECF6",
            "gridcolor": "white",
            "gridwidth": 2,
            "linecolor": "white",
            "showbackground": true,
            "ticks": "",
            "zerolinecolor": "white"
           },
           "zaxis": {
            "backgroundcolor": "#E5ECF6",
            "gridcolor": "white",
            "gridwidth": 2,
            "linecolor": "white",
            "showbackground": true,
            "ticks": "",
            "zerolinecolor": "white"
           }
          },
          "shapedefaults": {
           "line": {
            "color": "#2a3f5f"
           }
          },
          "ternary": {
           "aaxis": {
            "gridcolor": "white",
            "linecolor": "white",
            "ticks": ""
           },
           "baxis": {
            "gridcolor": "white",
            "linecolor": "white",
            "ticks": ""
           },
           "bgcolor": "#E5ECF6",
           "caxis": {
            "gridcolor": "white",
            "linecolor": "white",
            "ticks": ""
           }
          },
          "title": {
           "x": 0.05
          },
          "xaxis": {
           "automargin": true,
           "gridcolor": "white",
           "linecolor": "white",
           "ticks": "",
           "title": {
            "standoff": 15
           },
           "zerolinecolor": "white",
           "zerolinewidth": 2
          },
          "yaxis": {
           "automargin": true,
           "gridcolor": "white",
           "linecolor": "white",
           "ticks": "",
           "title": {
            "standoff": 15
           },
           "zerolinecolor": "white",
           "zerolinewidth": 2
          }
         }
        },
        "title": {
         "font": {
          "color": "#4D5663"
         },
         "text": "Top 10 Vendors by Monetary Amount (November 2019)"
        },
        "xaxis": {
         "gridcolor": "#E1E5ED",
         "showgrid": true,
         "tickfont": {
          "color": "#4D5663"
         },
         "title": {
          "font": {
           "color": "#4D5663"
          },
          "text": "Monetary Amount ($)"
         },
         "zerolinecolor": "#E1E5ED"
        },
        "yaxis": {
         "gridcolor": "#E1E5ED",
         "showgrid": true,
         "tickfont": {
          "color": "#4D5663"
         },
         "title": {
          "font": {
           "color": "#4D5663"
          },
          "text": ""
         },
         "zerolinecolor": "#E1E5ED"
        }
       }
      },
      "text/html": [
       "<div>                            <div id=\"95647768-7365-4916-828c-226f5ea8933a\" class=\"plotly-graph-div\" style=\"height:525px; width:100%;\"></div>            <script type=\"text/javascript\">                require([\"plotly\"], function(Plotly) {                    window.PLOTLYENV=window.PLOTLYENV || {};\n",
       "                    window.PLOTLYENV.BASE_URL='https://plot.ly';                                    if (document.getElementById(\"95647768-7365-4916-828c-226f5ea8933a\")) {                    Plotly.newPlot(                        \"95647768-7365-4916-828c-226f5ea8933a\",                        [{\"marker\":{\"color\":\"rgba(255, 153, 51, 0.6)\",\"line\":{\"color\":\"rgba(255, 153, 51, 1.0)\",\"width\":1}},\"name\":\"monetary_amount\",\"orientation\":\"h\",\"text\":\"\",\"x\":[3104757.79,4040374.04,4447737.0,4487188.27,9546185.88,20629579.95,27566927.07,71706683.83,78176100.24,146713793.93],\"y\":[\"CITY OF REDDING\",\"CITY OF RIVERSIDE PUBLIC UTILITIES\",\"ORANGE COUNTY\",\"DEPT OF GENERAL SERVICES\",\"LOS ANGELES COUNTY\",\"SAN DIEGO GAS & ELECTRIC CO\",\"LA DEPT OF WATER & POWER\",\"SACRAMENTO MUNICIPAL UTIL DIST\",\"SOUTHERN CA EDISON CO\",\"PACIFIC GAS & ELECTRIC CO\"],\"type\":\"bar\"}],                        {\"legend\":{\"bgcolor\":\"#F5F6F9\",\"font\":{\"color\":\"#4D5663\"}},\"paper_bgcolor\":\"#F5F6F9\",\"plot_bgcolor\":\"#F5F6F9\",\"template\":{\"data\":{\"barpolar\":[{\"marker\":{\"line\":{\"color\":\"#E5ECF6\",\"width\":0.5},\"pattern\":{\"fillmode\":\"overlay\",\"size\":10,\"solidity\":0.2}},\"type\":\"barpolar\"}],\"bar\":[{\"error_x\":{\"color\":\"#2a3f5f\"},\"error_y\":{\"color\":\"#2a3f5f\"},\"marker\":{\"line\":{\"color\":\"#E5ECF6\",\"width\":0.5},\"pattern\":{\"fillmode\":\"overlay\",\"size\":10,\"solidity\":0.2}},\"type\":\"bar\"}],\"carpet\":[{\"aaxis\":{\"endlinecolor\":\"#2a3f5f\",\"gridcolor\":\"white\",\"linecolor\":\"white\",\"minorgridcolor\":\"white\",\"startlinecolor\":\"#2a3f5f\"},\"baxis\":{\"endlinecolor\":\"#2a3f5f\",\"gridcolor\":\"white\",\"linecolor\":\"white\",\"minorgridcolor\":\"white\",\"startlinecolor\":\"#2a3f5f\"},\"type\":\"carpet\"}],\"choropleth\":[{\"colorbar\":{\"outlinewidth\":0,\"ticks\":\"\"},\"type\":\"choropleth\"}],\"contourcarpet\":[{\"colorbar\":{\"outlinewidth\":0,\"ticks\":\"\"},\"type\":\"contourcarpet\"}],\"contour\":[{\"colorbar\":{\"outlinewidth\":0,\"ticks\":\"\"},\"colorscale\":[[0.0,\"#0d0887\"],[0.1111111111111111,\"#46039f\"],[0.2222222222222222,\"#7201a8\"],[0.3333333333333333,\"#9c179e\"],[0.4444444444444444,\"#bd3786\"],[0.5555555555555556,\"#d8576b\"],[0.6666666666666666,\"#ed7953\"],[0.7777777777777778,\"#fb9f3a\"],[0.8888888888888888,\"#fdca26\"],[1.0,\"#f0f921\"]],\"type\":\"contour\"}],\"heatmapgl\":[{\"colorbar\":{\"outlinewidth\":0,\"ticks\":\"\"},\"colorscale\":[[0.0,\"#0d0887\"],[0.1111111111111111,\"#46039f\"],[0.2222222222222222,\"#7201a8\"],[0.3333333333333333,\"#9c179e\"],[0.4444444444444444,\"#bd3786\"],[0.5555555555555556,\"#d8576b\"],[0.6666666666666666,\"#ed7953\"],[0.7777777777777778,\"#fb9f3a\"],[0.8888888888888888,\"#fdca26\"],[1.0,\"#f0f921\"]],\"type\":\"heatmapgl\"}],\"heatmap\":[{\"colorbar\":{\"outlinewidth\":0,\"ticks\":\"\"},\"colorscale\":[[0.0,\"#0d0887\"],[0.1111111111111111,\"#46039f\"],[0.2222222222222222,\"#7201a8\"],[0.3333333333333333,\"#9c179e\"],[0.4444444444444444,\"#bd3786\"],[0.5555555555555556,\"#d8576b\"],[0.6666666666666666,\"#ed7953\"],[0.7777777777777778,\"#fb9f3a\"],[0.8888888888888888,\"#fdca26\"],[1.0,\"#f0f921\"]],\"type\":\"heatmap\"}],\"histogram2dcontour\":[{\"colorbar\":{\"outlinewidth\":0,\"ticks\":\"\"},\"colorscale\":[[0.0,\"#0d0887\"],[0.1111111111111111,\"#46039f\"],[0.2222222222222222,\"#7201a8\"],[0.3333333333333333,\"#9c179e\"],[0.4444444444444444,\"#bd3786\"],[0.5555555555555556,\"#d8576b\"],[0.6666666666666666,\"#ed7953\"],[0.7777777777777778,\"#fb9f3a\"],[0.8888888888888888,\"#fdca26\"],[1.0,\"#f0f921\"]],\"type\":\"histogram2dcontour\"}],\"histogram2d\":[{\"colorbar\":{\"outlinewidth\":0,\"ticks\":\"\"},\"colorscale\":[[0.0,\"#0d0887\"],[0.1111111111111111,\"#46039f\"],[0.2222222222222222,\"#7201a8\"],[0.3333333333333333,\"#9c179e\"],[0.4444444444444444,\"#bd3786\"],[0.5555555555555556,\"#d8576b\"],[0.6666666666666666,\"#ed7953\"],[0.7777777777777778,\"#fb9f3a\"],[0.8888888888888888,\"#fdca26\"],[1.0,\"#f0f921\"]],\"type\":\"histogram2d\"}],\"histogram\":[{\"marker\":{\"pattern\":{\"fillmode\":\"overlay\",\"size\":10,\"solidity\":0.2}},\"type\":\"histogram\"}],\"mesh3d\":[{\"colorbar\":{\"outlinewidth\":0,\"ticks\":\"\"},\"type\":\"mesh3d\"}],\"parcoords\":[{\"line\":{\"colorbar\":{\"outlinewidth\":0,\"ticks\":\"\"}},\"type\":\"parcoords\"}],\"pie\":[{\"automargin\":true,\"type\":\"pie\"}],\"scatter3d\":[{\"line\":{\"colorbar\":{\"outlinewidth\":0,\"ticks\":\"\"}},\"marker\":{\"colorbar\":{\"outlinewidth\":0,\"ticks\":\"\"}},\"type\":\"scatter3d\"}],\"scattercarpet\":[{\"marker\":{\"colorbar\":{\"outlinewidth\":0,\"ticks\":\"\"}},\"type\":\"scattercarpet\"}],\"scattergeo\":[{\"marker\":{\"colorbar\":{\"outlinewidth\":0,\"ticks\":\"\"}},\"type\":\"scattergeo\"}],\"scattergl\":[{\"marker\":{\"colorbar\":{\"outlinewidth\":0,\"ticks\":\"\"}},\"type\":\"scattergl\"}],\"scattermapbox\":[{\"marker\":{\"colorbar\":{\"outlinewidth\":0,\"ticks\":\"\"}},\"type\":\"scattermapbox\"}],\"scatterpolargl\":[{\"marker\":{\"colorbar\":{\"outlinewidth\":0,\"ticks\":\"\"}},\"type\":\"scatterpolargl\"}],\"scatterpolar\":[{\"marker\":{\"colorbar\":{\"outlinewidth\":0,\"ticks\":\"\"}},\"type\":\"scatterpolar\"}],\"scatter\":[{\"fillpattern\":{\"fillmode\":\"overlay\",\"size\":10,\"solidity\":0.2},\"type\":\"scatter\"}],\"scatterternary\":[{\"marker\":{\"colorbar\":{\"outlinewidth\":0,\"ticks\":\"\"}},\"type\":\"scatterternary\"}],\"surface\":[{\"colorbar\":{\"outlinewidth\":0,\"ticks\":\"\"},\"colorscale\":[[0.0,\"#0d0887\"],[0.1111111111111111,\"#46039f\"],[0.2222222222222222,\"#7201a8\"],[0.3333333333333333,\"#9c179e\"],[0.4444444444444444,\"#bd3786\"],[0.5555555555555556,\"#d8576b\"],[0.6666666666666666,\"#ed7953\"],[0.7777777777777778,\"#fb9f3a\"],[0.8888888888888888,\"#fdca26\"],[1.0,\"#f0f921\"]],\"type\":\"surface\"}],\"table\":[{\"cells\":{\"fill\":{\"color\":\"#EBF0F8\"},\"line\":{\"color\":\"white\"}},\"header\":{\"fill\":{\"color\":\"#C8D4E3\"},\"line\":{\"color\":\"white\"}},\"type\":\"table\"}]},\"layout\":{\"annotationdefaults\":{\"arrowcolor\":\"#2a3f5f\",\"arrowhead\":0,\"arrowwidth\":1},\"autotypenumbers\":\"strict\",\"coloraxis\":{\"colorbar\":{\"outlinewidth\":0,\"ticks\":\"\"}},\"colorscale\":{\"diverging\":[[0,\"#8e0152\"],[0.1,\"#c51b7d\"],[0.2,\"#de77ae\"],[0.3,\"#f1b6da\"],[0.4,\"#fde0ef\"],[0.5,\"#f7f7f7\"],[0.6,\"#e6f5d0\"],[0.7,\"#b8e186\"],[0.8,\"#7fbc41\"],[0.9,\"#4d9221\"],[1,\"#276419\"]],\"sequential\":[[0.0,\"#0d0887\"],[0.1111111111111111,\"#46039f\"],[0.2222222222222222,\"#7201a8\"],[0.3333333333333333,\"#9c179e\"],[0.4444444444444444,\"#bd3786\"],[0.5555555555555556,\"#d8576b\"],[0.6666666666666666,\"#ed7953\"],[0.7777777777777778,\"#fb9f3a\"],[0.8888888888888888,\"#fdca26\"],[1.0,\"#f0f921\"]],\"sequentialminus\":[[0.0,\"#0d0887\"],[0.1111111111111111,\"#46039f\"],[0.2222222222222222,\"#7201a8\"],[0.3333333333333333,\"#9c179e\"],[0.4444444444444444,\"#bd3786\"],[0.5555555555555556,\"#d8576b\"],[0.6666666666666666,\"#ed7953\"],[0.7777777777777778,\"#fb9f3a\"],[0.8888888888888888,\"#fdca26\"],[1.0,\"#f0f921\"]]},\"colorway\":[\"#636efa\",\"#EF553B\",\"#00cc96\",\"#ab63fa\",\"#FFA15A\",\"#19d3f3\",\"#FF6692\",\"#B6E880\",\"#FF97FF\",\"#FECB52\"],\"font\":{\"color\":\"#2a3f5f\"},\"geo\":{\"bgcolor\":\"white\",\"lakecolor\":\"white\",\"landcolor\":\"#E5ECF6\",\"showlakes\":true,\"showland\":true,\"subunitcolor\":\"white\"},\"hoverlabel\":{\"align\":\"left\"},\"hovermode\":\"closest\",\"mapbox\":{\"style\":\"light\"},\"paper_bgcolor\":\"white\",\"plot_bgcolor\":\"#E5ECF6\",\"polar\":{\"angularaxis\":{\"gridcolor\":\"white\",\"linecolor\":\"white\",\"ticks\":\"\"},\"bgcolor\":\"#E5ECF6\",\"radialaxis\":{\"gridcolor\":\"white\",\"linecolor\":\"white\",\"ticks\":\"\"}},\"scene\":{\"xaxis\":{\"backgroundcolor\":\"#E5ECF6\",\"gridcolor\":\"white\",\"gridwidth\":2,\"linecolor\":\"white\",\"showbackground\":true,\"ticks\":\"\",\"zerolinecolor\":\"white\"},\"yaxis\":{\"backgroundcolor\":\"#E5ECF6\",\"gridcolor\":\"white\",\"gridwidth\":2,\"linecolor\":\"white\",\"showbackground\":true,\"ticks\":\"\",\"zerolinecolor\":\"white\"},\"zaxis\":{\"backgroundcolor\":\"#E5ECF6\",\"gridcolor\":\"white\",\"gridwidth\":2,\"linecolor\":\"white\",\"showbackground\":true,\"ticks\":\"\",\"zerolinecolor\":\"white\"}},\"shapedefaults\":{\"line\":{\"color\":\"#2a3f5f\"}},\"ternary\":{\"aaxis\":{\"gridcolor\":\"white\",\"linecolor\":\"white\",\"ticks\":\"\"},\"baxis\":{\"gridcolor\":\"white\",\"linecolor\":\"white\",\"ticks\":\"\"},\"bgcolor\":\"#E5ECF6\",\"caxis\":{\"gridcolor\":\"white\",\"linecolor\":\"white\",\"ticks\":\"\"}},\"title\":{\"x\":0.05},\"xaxis\":{\"automargin\":true,\"gridcolor\":\"white\",\"linecolor\":\"white\",\"ticks\":\"\",\"title\":{\"standoff\":15},\"zerolinecolor\":\"white\",\"zerolinewidth\":2},\"yaxis\":{\"automargin\":true,\"gridcolor\":\"white\",\"linecolor\":\"white\",\"ticks\":\"\",\"title\":{\"standoff\":15},\"zerolinecolor\":\"white\",\"zerolinewidth\":2}}},\"title\":{\"font\":{\"color\":\"#4D5663\"},\"text\":\"Top 10 Vendors by Monetary Amount (November 2019)\"},\"xaxis\":{\"gridcolor\":\"#E1E5ED\",\"showgrid\":true,\"tickfont\":{\"color\":\"#4D5663\"},\"title\":{\"font\":{\"color\":\"#4D5663\"},\"text\":\"Monetary Amount ($)\"},\"zerolinecolor\":\"#E1E5ED\"},\"yaxis\":{\"gridcolor\":\"#E1E5ED\",\"showgrid\":true,\"tickfont\":{\"color\":\"#4D5663\"},\"title\":{\"font\":{\"color\":\"#4D5663\"},\"text\":\"\"},\"zerolinecolor\":\"#E1E5ED\"}},                        {\"showLink\": true, \"linkText\": \"Export to plot.ly\", \"plotlyServerURL\": \"https://plot.ly\", \"responsive\": true}                    ).then(function(){\n",
       "                            \n",
       "var gd = document.getElementById('95647768-7365-4916-828c-226f5ea8933a');\n",
       "var x = new MutationObserver(function (mutations, observer) {{\n",
       "        var display = window.getComputedStyle(gd).display;\n",
       "        if (!display || display === 'none') {{\n",
       "            console.log([gd, 'removed!']);\n",
       "            Plotly.purge(gd);\n",
       "            observer.disconnect();\n",
       "        }}\n",
       "}});\n",
       "\n",
       "// Listen for the removal of the full notebook cells\n",
       "var notebookContainer = gd.closest('#notebook-container');\n",
       "if (notebookContainer) {{\n",
       "    x.observe(notebookContainer, {childList: true});\n",
       "}}\n",
       "\n",
       "// Listen for the clearing of the current output cell\n",
       "var outputEl = gd.closest('.output');\n",
       "if (outputEl) {{\n",
       "    x.observe(outputEl, {childList: true});\n",
       "}}\n",
       "\n",
       "                        })                };                });            </script>        </div>"
      ]
     },
     "metadata": {},
     "output_type": "display_data"
    }
   ],
   "source": [
    "# bar chart of the top 10 vendors by monetary value\n",
    "vendor_monetary_sum.tail(10).iplot(kind='bar', orientation='h', title='Top 10 Vendors by Monetary Amount (November 2019)',xTitle='Monetary Amount ($)')"
   ]
  },
  {
   "cell_type": "code",
   "execution_count": 34,
   "metadata": {},
   "outputs": [
    {
     "data": {
      "application/vnd.plotly.v1+json": {
       "config": {
        "linkText": "Export to plot.ly",
        "plotlyServerURL": "https://plot.ly",
        "showLink": true
       },
       "data": [
        {
         "marker": {
          "color": "rgba(255, 153, 51, 0.6)",
          "line": {
           "color": "rgba(255, 153, 51, 1.0)",
           "width": 1
          }
         },
         "name": "vendor_name",
         "orientation": "h",
         "text": "",
         "type": "bar",
         "x": [
          1611,
          1840,
          2087,
          2214,
          3053,
          3192,
          7192,
          10874,
          14709,
          41969
         ],
         "y": [
          "LIBERTY UTIL CALPECO ELEC LLC",
          "PACIFIC POWER",
          "CITY OF REDDING",
          "LIBERTY UTILITIES",
          "IMPERIAL IRRIGATION DISTRICT",
          "LA DEPT OF WATER & POWER",
          "SAN DIEGO GAS & ELECTRIC CO",
          "SACRAMENTO MUNICIPAL UTIL DIST",
          "SOUTHERN CA EDISON CO",
          "PACIFIC GAS & ELECTRIC CO"
         ]
        }
       ],
       "layout": {
        "legend": {
         "bgcolor": "#F5F6F9",
         "font": {
          "color": "#4D5663"
         }
        },
        "paper_bgcolor": "#F5F6F9",
        "plot_bgcolor": "#F5F6F9",
        "template": {
         "data": {
          "bar": [
           {
            "error_x": {
             "color": "#2a3f5f"
            },
            "error_y": {
             "color": "#2a3f5f"
            },
            "marker": {
             "line": {
              "color": "#E5ECF6",
              "width": 0.5
             },
             "pattern": {
              "fillmode": "overlay",
              "size": 10,
              "solidity": 0.2
             }
            },
            "type": "bar"
           }
          ],
          "barpolar": [
           {
            "marker": {
             "line": {
              "color": "#E5ECF6",
              "width": 0.5
             },
             "pattern": {
              "fillmode": "overlay",
              "size": 10,
              "solidity": 0.2
             }
            },
            "type": "barpolar"
           }
          ],
          "carpet": [
           {
            "aaxis": {
             "endlinecolor": "#2a3f5f",
             "gridcolor": "white",
             "linecolor": "white",
             "minorgridcolor": "white",
             "startlinecolor": "#2a3f5f"
            },
            "baxis": {
             "endlinecolor": "#2a3f5f",
             "gridcolor": "white",
             "linecolor": "white",
             "minorgridcolor": "white",
             "startlinecolor": "#2a3f5f"
            },
            "type": "carpet"
           }
          ],
          "choropleth": [
           {
            "colorbar": {
             "outlinewidth": 0,
             "ticks": ""
            },
            "type": "choropleth"
           }
          ],
          "contour": [
           {
            "colorbar": {
             "outlinewidth": 0,
             "ticks": ""
            },
            "colorscale": [
             [
              0,
              "#0d0887"
             ],
             [
              0.1111111111111111,
              "#46039f"
             ],
             [
              0.2222222222222222,
              "#7201a8"
             ],
             [
              0.3333333333333333,
              "#9c179e"
             ],
             [
              0.4444444444444444,
              "#bd3786"
             ],
             [
              0.5555555555555556,
              "#d8576b"
             ],
             [
              0.6666666666666666,
              "#ed7953"
             ],
             [
              0.7777777777777778,
              "#fb9f3a"
             ],
             [
              0.8888888888888888,
              "#fdca26"
             ],
             [
              1,
              "#f0f921"
             ]
            ],
            "type": "contour"
           }
          ],
          "contourcarpet": [
           {
            "colorbar": {
             "outlinewidth": 0,
             "ticks": ""
            },
            "type": "contourcarpet"
           }
          ],
          "heatmap": [
           {
            "colorbar": {
             "outlinewidth": 0,
             "ticks": ""
            },
            "colorscale": [
             [
              0,
              "#0d0887"
             ],
             [
              0.1111111111111111,
              "#46039f"
             ],
             [
              0.2222222222222222,
              "#7201a8"
             ],
             [
              0.3333333333333333,
              "#9c179e"
             ],
             [
              0.4444444444444444,
              "#bd3786"
             ],
             [
              0.5555555555555556,
              "#d8576b"
             ],
             [
              0.6666666666666666,
              "#ed7953"
             ],
             [
              0.7777777777777778,
              "#fb9f3a"
             ],
             [
              0.8888888888888888,
              "#fdca26"
             ],
             [
              1,
              "#f0f921"
             ]
            ],
            "type": "heatmap"
           }
          ],
          "heatmapgl": [
           {
            "colorbar": {
             "outlinewidth": 0,
             "ticks": ""
            },
            "colorscale": [
             [
              0,
              "#0d0887"
             ],
             [
              0.1111111111111111,
              "#46039f"
             ],
             [
              0.2222222222222222,
              "#7201a8"
             ],
             [
              0.3333333333333333,
              "#9c179e"
             ],
             [
              0.4444444444444444,
              "#bd3786"
             ],
             [
              0.5555555555555556,
              "#d8576b"
             ],
             [
              0.6666666666666666,
              "#ed7953"
             ],
             [
              0.7777777777777778,
              "#fb9f3a"
             ],
             [
              0.8888888888888888,
              "#fdca26"
             ],
             [
              1,
              "#f0f921"
             ]
            ],
            "type": "heatmapgl"
           }
          ],
          "histogram": [
           {
            "marker": {
             "pattern": {
              "fillmode": "overlay",
              "size": 10,
              "solidity": 0.2
             }
            },
            "type": "histogram"
           }
          ],
          "histogram2d": [
           {
            "colorbar": {
             "outlinewidth": 0,
             "ticks": ""
            },
            "colorscale": [
             [
              0,
              "#0d0887"
             ],
             [
              0.1111111111111111,
              "#46039f"
             ],
             [
              0.2222222222222222,
              "#7201a8"
             ],
             [
              0.3333333333333333,
              "#9c179e"
             ],
             [
              0.4444444444444444,
              "#bd3786"
             ],
             [
              0.5555555555555556,
              "#d8576b"
             ],
             [
              0.6666666666666666,
              "#ed7953"
             ],
             [
              0.7777777777777778,
              "#fb9f3a"
             ],
             [
              0.8888888888888888,
              "#fdca26"
             ],
             [
              1,
              "#f0f921"
             ]
            ],
            "type": "histogram2d"
           }
          ],
          "histogram2dcontour": [
           {
            "colorbar": {
             "outlinewidth": 0,
             "ticks": ""
            },
            "colorscale": [
             [
              0,
              "#0d0887"
             ],
             [
              0.1111111111111111,
              "#46039f"
             ],
             [
              0.2222222222222222,
              "#7201a8"
             ],
             [
              0.3333333333333333,
              "#9c179e"
             ],
             [
              0.4444444444444444,
              "#bd3786"
             ],
             [
              0.5555555555555556,
              "#d8576b"
             ],
             [
              0.6666666666666666,
              "#ed7953"
             ],
             [
              0.7777777777777778,
              "#fb9f3a"
             ],
             [
              0.8888888888888888,
              "#fdca26"
             ],
             [
              1,
              "#f0f921"
             ]
            ],
            "type": "histogram2dcontour"
           }
          ],
          "mesh3d": [
           {
            "colorbar": {
             "outlinewidth": 0,
             "ticks": ""
            },
            "type": "mesh3d"
           }
          ],
          "parcoords": [
           {
            "line": {
             "colorbar": {
              "outlinewidth": 0,
              "ticks": ""
             }
            },
            "type": "parcoords"
           }
          ],
          "pie": [
           {
            "automargin": true,
            "type": "pie"
           }
          ],
          "scatter": [
           {
            "fillpattern": {
             "fillmode": "overlay",
             "size": 10,
             "solidity": 0.2
            },
            "type": "scatter"
           }
          ],
          "scatter3d": [
           {
            "line": {
             "colorbar": {
              "outlinewidth": 0,
              "ticks": ""
             }
            },
            "marker": {
             "colorbar": {
              "outlinewidth": 0,
              "ticks": ""
             }
            },
            "type": "scatter3d"
           }
          ],
          "scattercarpet": [
           {
            "marker": {
             "colorbar": {
              "outlinewidth": 0,
              "ticks": ""
             }
            },
            "type": "scattercarpet"
           }
          ],
          "scattergeo": [
           {
            "marker": {
             "colorbar": {
              "outlinewidth": 0,
              "ticks": ""
             }
            },
            "type": "scattergeo"
           }
          ],
          "scattergl": [
           {
            "marker": {
             "colorbar": {
              "outlinewidth": 0,
              "ticks": ""
             }
            },
            "type": "scattergl"
           }
          ],
          "scattermapbox": [
           {
            "marker": {
             "colorbar": {
              "outlinewidth": 0,
              "ticks": ""
             }
            },
            "type": "scattermapbox"
           }
          ],
          "scatterpolar": [
           {
            "marker": {
             "colorbar": {
              "outlinewidth": 0,
              "ticks": ""
             }
            },
            "type": "scatterpolar"
           }
          ],
          "scatterpolargl": [
           {
            "marker": {
             "colorbar": {
              "outlinewidth": 0,
              "ticks": ""
             }
            },
            "type": "scatterpolargl"
           }
          ],
          "scatterternary": [
           {
            "marker": {
             "colorbar": {
              "outlinewidth": 0,
              "ticks": ""
             }
            },
            "type": "scatterternary"
           }
          ],
          "surface": [
           {
            "colorbar": {
             "outlinewidth": 0,
             "ticks": ""
            },
            "colorscale": [
             [
              0,
              "#0d0887"
             ],
             [
              0.1111111111111111,
              "#46039f"
             ],
             [
              0.2222222222222222,
              "#7201a8"
             ],
             [
              0.3333333333333333,
              "#9c179e"
             ],
             [
              0.4444444444444444,
              "#bd3786"
             ],
             [
              0.5555555555555556,
              "#d8576b"
             ],
             [
              0.6666666666666666,
              "#ed7953"
             ],
             [
              0.7777777777777778,
              "#fb9f3a"
             ],
             [
              0.8888888888888888,
              "#fdca26"
             ],
             [
              1,
              "#f0f921"
             ]
            ],
            "type": "surface"
           }
          ],
          "table": [
           {
            "cells": {
             "fill": {
              "color": "#EBF0F8"
             },
             "line": {
              "color": "white"
             }
            },
            "header": {
             "fill": {
              "color": "#C8D4E3"
             },
             "line": {
              "color": "white"
             }
            },
            "type": "table"
           }
          ]
         },
         "layout": {
          "annotationdefaults": {
           "arrowcolor": "#2a3f5f",
           "arrowhead": 0,
           "arrowwidth": 1
          },
          "autotypenumbers": "strict",
          "coloraxis": {
           "colorbar": {
            "outlinewidth": 0,
            "ticks": ""
           }
          },
          "colorscale": {
           "diverging": [
            [
             0,
             "#8e0152"
            ],
            [
             0.1,
             "#c51b7d"
            ],
            [
             0.2,
             "#de77ae"
            ],
            [
             0.3,
             "#f1b6da"
            ],
            [
             0.4,
             "#fde0ef"
            ],
            [
             0.5,
             "#f7f7f7"
            ],
            [
             0.6,
             "#e6f5d0"
            ],
            [
             0.7,
             "#b8e186"
            ],
            [
             0.8,
             "#7fbc41"
            ],
            [
             0.9,
             "#4d9221"
            ],
            [
             1,
             "#276419"
            ]
           ],
           "sequential": [
            [
             0,
             "#0d0887"
            ],
            [
             0.1111111111111111,
             "#46039f"
            ],
            [
             0.2222222222222222,
             "#7201a8"
            ],
            [
             0.3333333333333333,
             "#9c179e"
            ],
            [
             0.4444444444444444,
             "#bd3786"
            ],
            [
             0.5555555555555556,
             "#d8576b"
            ],
            [
             0.6666666666666666,
             "#ed7953"
            ],
            [
             0.7777777777777778,
             "#fb9f3a"
            ],
            [
             0.8888888888888888,
             "#fdca26"
            ],
            [
             1,
             "#f0f921"
            ]
           ],
           "sequentialminus": [
            [
             0,
             "#0d0887"
            ],
            [
             0.1111111111111111,
             "#46039f"
            ],
            [
             0.2222222222222222,
             "#7201a8"
            ],
            [
             0.3333333333333333,
             "#9c179e"
            ],
            [
             0.4444444444444444,
             "#bd3786"
            ],
            [
             0.5555555555555556,
             "#d8576b"
            ],
            [
             0.6666666666666666,
             "#ed7953"
            ],
            [
             0.7777777777777778,
             "#fb9f3a"
            ],
            [
             0.8888888888888888,
             "#fdca26"
            ],
            [
             1,
             "#f0f921"
            ]
           ]
          },
          "colorway": [
           "#636efa",
           "#EF553B",
           "#00cc96",
           "#ab63fa",
           "#FFA15A",
           "#19d3f3",
           "#FF6692",
           "#B6E880",
           "#FF97FF",
           "#FECB52"
          ],
          "font": {
           "color": "#2a3f5f"
          },
          "geo": {
           "bgcolor": "white",
           "lakecolor": "white",
           "landcolor": "#E5ECF6",
           "showlakes": true,
           "showland": true,
           "subunitcolor": "white"
          },
          "hoverlabel": {
           "align": "left"
          },
          "hovermode": "closest",
          "mapbox": {
           "style": "light"
          },
          "paper_bgcolor": "white",
          "plot_bgcolor": "#E5ECF6",
          "polar": {
           "angularaxis": {
            "gridcolor": "white",
            "linecolor": "white",
            "ticks": ""
           },
           "bgcolor": "#E5ECF6",
           "radialaxis": {
            "gridcolor": "white",
            "linecolor": "white",
            "ticks": ""
           }
          },
          "scene": {
           "xaxis": {
            "backgroundcolor": "#E5ECF6",
            "gridcolor": "white",
            "gridwidth": 2,
            "linecolor": "white",
            "showbackground": true,
            "ticks": "",
            "zerolinecolor": "white"
           },
           "yaxis": {
            "backgroundcolor": "#E5ECF6",
            "gridcolor": "white",
            "gridwidth": 2,
            "linecolor": "white",
            "showbackground": true,
            "ticks": "",
            "zerolinecolor": "white"
           },
           "zaxis": {
            "backgroundcolor": "#E5ECF6",
            "gridcolor": "white",
            "gridwidth": 2,
            "linecolor": "white",
            "showbackground": true,
            "ticks": "",
            "zerolinecolor": "white"
           }
          },
          "shapedefaults": {
           "line": {
            "color": "#2a3f5f"
           }
          },
          "ternary": {
           "aaxis": {
            "gridcolor": "white",
            "linecolor": "white",
            "ticks": ""
           },
           "baxis": {
            "gridcolor": "white",
            "linecolor": "white",
            "ticks": ""
           },
           "bgcolor": "#E5ECF6",
           "caxis": {
            "gridcolor": "white",
            "linecolor": "white",
            "ticks": ""
           }
          },
          "title": {
           "x": 0.05
          },
          "xaxis": {
           "automargin": true,
           "gridcolor": "white",
           "linecolor": "white",
           "ticks": "",
           "title": {
            "standoff": 15
           },
           "zerolinecolor": "white",
           "zerolinewidth": 2
          },
          "yaxis": {
           "automargin": true,
           "gridcolor": "white",
           "linecolor": "white",
           "ticks": "",
           "title": {
            "standoff": 15
           },
           "zerolinecolor": "white",
           "zerolinewidth": 2
          }
         }
        },
        "title": {
         "font": {
          "color": "#4D5663"
         },
         "text": "Top 10 Vendors by # of Transactions (Novemeber 2019)"
        },
        "xaxis": {
         "gridcolor": "#E1E5ED",
         "showgrid": true,
         "tickfont": {
          "color": "#4D5663"
         },
         "title": {
          "font": {
           "color": "#4D5663"
          },
          "text": "Number of Transactions"
         },
         "zerolinecolor": "#E1E5ED"
        },
        "yaxis": {
         "gridcolor": "#E1E5ED",
         "showgrid": true,
         "tickfont": {
          "color": "#4D5663"
         },
         "title": {
          "font": {
           "color": "#4D5663"
          },
          "text": ""
         },
         "zerolinecolor": "#E1E5ED"
        }
       }
      },
      "text/html": [
       "<div>                            <div id=\"99261941-53d9-4d85-bc44-8663b39c001d\" class=\"plotly-graph-div\" style=\"height:525px; width:100%;\"></div>            <script type=\"text/javascript\">                require([\"plotly\"], function(Plotly) {                    window.PLOTLYENV=window.PLOTLYENV || {};\n",
       "                    window.PLOTLYENV.BASE_URL='https://plot.ly';                                    if (document.getElementById(\"99261941-53d9-4d85-bc44-8663b39c001d\")) {                    Plotly.newPlot(                        \"99261941-53d9-4d85-bc44-8663b39c001d\",                        [{\"marker\":{\"color\":\"rgba(255, 153, 51, 0.6)\",\"line\":{\"color\":\"rgba(255, 153, 51, 1.0)\",\"width\":1}},\"name\":\"vendor_name\",\"orientation\":\"h\",\"text\":\"\",\"x\":[1611,1840,2087,2214,3053,3192,7192,10874,14709,41969],\"y\":[\"LIBERTY UTIL CALPECO ELEC LLC\",\"PACIFIC POWER\",\"CITY OF REDDING\",\"LIBERTY UTILITIES\",\"IMPERIAL IRRIGATION DISTRICT\",\"LA DEPT OF WATER & POWER\",\"SAN DIEGO GAS & ELECTRIC CO\",\"SACRAMENTO MUNICIPAL UTIL DIST\",\"SOUTHERN CA EDISON CO\",\"PACIFIC GAS & ELECTRIC CO\"],\"type\":\"bar\"}],                        {\"legend\":{\"bgcolor\":\"#F5F6F9\",\"font\":{\"color\":\"#4D5663\"}},\"paper_bgcolor\":\"#F5F6F9\",\"plot_bgcolor\":\"#F5F6F9\",\"template\":{\"data\":{\"barpolar\":[{\"marker\":{\"line\":{\"color\":\"#E5ECF6\",\"width\":0.5},\"pattern\":{\"fillmode\":\"overlay\",\"size\":10,\"solidity\":0.2}},\"type\":\"barpolar\"}],\"bar\":[{\"error_x\":{\"color\":\"#2a3f5f\"},\"error_y\":{\"color\":\"#2a3f5f\"},\"marker\":{\"line\":{\"color\":\"#E5ECF6\",\"width\":0.5},\"pattern\":{\"fillmode\":\"overlay\",\"size\":10,\"solidity\":0.2}},\"type\":\"bar\"}],\"carpet\":[{\"aaxis\":{\"endlinecolor\":\"#2a3f5f\",\"gridcolor\":\"white\",\"linecolor\":\"white\",\"minorgridcolor\":\"white\",\"startlinecolor\":\"#2a3f5f\"},\"baxis\":{\"endlinecolor\":\"#2a3f5f\",\"gridcolor\":\"white\",\"linecolor\":\"white\",\"minorgridcolor\":\"white\",\"startlinecolor\":\"#2a3f5f\"},\"type\":\"carpet\"}],\"choropleth\":[{\"colorbar\":{\"outlinewidth\":0,\"ticks\":\"\"},\"type\":\"choropleth\"}],\"contourcarpet\":[{\"colorbar\":{\"outlinewidth\":0,\"ticks\":\"\"},\"type\":\"contourcarpet\"}],\"contour\":[{\"colorbar\":{\"outlinewidth\":0,\"ticks\":\"\"},\"colorscale\":[[0.0,\"#0d0887\"],[0.1111111111111111,\"#46039f\"],[0.2222222222222222,\"#7201a8\"],[0.3333333333333333,\"#9c179e\"],[0.4444444444444444,\"#bd3786\"],[0.5555555555555556,\"#d8576b\"],[0.6666666666666666,\"#ed7953\"],[0.7777777777777778,\"#fb9f3a\"],[0.8888888888888888,\"#fdca26\"],[1.0,\"#f0f921\"]],\"type\":\"contour\"}],\"heatmapgl\":[{\"colorbar\":{\"outlinewidth\":0,\"ticks\":\"\"},\"colorscale\":[[0.0,\"#0d0887\"],[0.1111111111111111,\"#46039f\"],[0.2222222222222222,\"#7201a8\"],[0.3333333333333333,\"#9c179e\"],[0.4444444444444444,\"#bd3786\"],[0.5555555555555556,\"#d8576b\"],[0.6666666666666666,\"#ed7953\"],[0.7777777777777778,\"#fb9f3a\"],[0.8888888888888888,\"#fdca26\"],[1.0,\"#f0f921\"]],\"type\":\"heatmapgl\"}],\"heatmap\":[{\"colorbar\":{\"outlinewidth\":0,\"ticks\":\"\"},\"colorscale\":[[0.0,\"#0d0887\"],[0.1111111111111111,\"#46039f\"],[0.2222222222222222,\"#7201a8\"],[0.3333333333333333,\"#9c179e\"],[0.4444444444444444,\"#bd3786\"],[0.5555555555555556,\"#d8576b\"],[0.6666666666666666,\"#ed7953\"],[0.7777777777777778,\"#fb9f3a\"],[0.8888888888888888,\"#fdca26\"],[1.0,\"#f0f921\"]],\"type\":\"heatmap\"}],\"histogram2dcontour\":[{\"colorbar\":{\"outlinewidth\":0,\"ticks\":\"\"},\"colorscale\":[[0.0,\"#0d0887\"],[0.1111111111111111,\"#46039f\"],[0.2222222222222222,\"#7201a8\"],[0.3333333333333333,\"#9c179e\"],[0.4444444444444444,\"#bd3786\"],[0.5555555555555556,\"#d8576b\"],[0.6666666666666666,\"#ed7953\"],[0.7777777777777778,\"#fb9f3a\"],[0.8888888888888888,\"#fdca26\"],[1.0,\"#f0f921\"]],\"type\":\"histogram2dcontour\"}],\"histogram2d\":[{\"colorbar\":{\"outlinewidth\":0,\"ticks\":\"\"},\"colorscale\":[[0.0,\"#0d0887\"],[0.1111111111111111,\"#46039f\"],[0.2222222222222222,\"#7201a8\"],[0.3333333333333333,\"#9c179e\"],[0.4444444444444444,\"#bd3786\"],[0.5555555555555556,\"#d8576b\"],[0.6666666666666666,\"#ed7953\"],[0.7777777777777778,\"#fb9f3a\"],[0.8888888888888888,\"#fdca26\"],[1.0,\"#f0f921\"]],\"type\":\"histogram2d\"}],\"histogram\":[{\"marker\":{\"pattern\":{\"fillmode\":\"overlay\",\"size\":10,\"solidity\":0.2}},\"type\":\"histogram\"}],\"mesh3d\":[{\"colorbar\":{\"outlinewidth\":0,\"ticks\":\"\"},\"type\":\"mesh3d\"}],\"parcoords\":[{\"line\":{\"colorbar\":{\"outlinewidth\":0,\"ticks\":\"\"}},\"type\":\"parcoords\"}],\"pie\":[{\"automargin\":true,\"type\":\"pie\"}],\"scatter3d\":[{\"line\":{\"colorbar\":{\"outlinewidth\":0,\"ticks\":\"\"}},\"marker\":{\"colorbar\":{\"outlinewidth\":0,\"ticks\":\"\"}},\"type\":\"scatter3d\"}],\"scattercarpet\":[{\"marker\":{\"colorbar\":{\"outlinewidth\":0,\"ticks\":\"\"}},\"type\":\"scattercarpet\"}],\"scattergeo\":[{\"marker\":{\"colorbar\":{\"outlinewidth\":0,\"ticks\":\"\"}},\"type\":\"scattergeo\"}],\"scattergl\":[{\"marker\":{\"colorbar\":{\"outlinewidth\":0,\"ticks\":\"\"}},\"type\":\"scattergl\"}],\"scattermapbox\":[{\"marker\":{\"colorbar\":{\"outlinewidth\":0,\"ticks\":\"\"}},\"type\":\"scattermapbox\"}],\"scatterpolargl\":[{\"marker\":{\"colorbar\":{\"outlinewidth\":0,\"ticks\":\"\"}},\"type\":\"scatterpolargl\"}],\"scatterpolar\":[{\"marker\":{\"colorbar\":{\"outlinewidth\":0,\"ticks\":\"\"}},\"type\":\"scatterpolar\"}],\"scatter\":[{\"fillpattern\":{\"fillmode\":\"overlay\",\"size\":10,\"solidity\":0.2},\"type\":\"scatter\"}],\"scatterternary\":[{\"marker\":{\"colorbar\":{\"outlinewidth\":0,\"ticks\":\"\"}},\"type\":\"scatterternary\"}],\"surface\":[{\"colorbar\":{\"outlinewidth\":0,\"ticks\":\"\"},\"colorscale\":[[0.0,\"#0d0887\"],[0.1111111111111111,\"#46039f\"],[0.2222222222222222,\"#7201a8\"],[0.3333333333333333,\"#9c179e\"],[0.4444444444444444,\"#bd3786\"],[0.5555555555555556,\"#d8576b\"],[0.6666666666666666,\"#ed7953\"],[0.7777777777777778,\"#fb9f3a\"],[0.8888888888888888,\"#fdca26\"],[1.0,\"#f0f921\"]],\"type\":\"surface\"}],\"table\":[{\"cells\":{\"fill\":{\"color\":\"#EBF0F8\"},\"line\":{\"color\":\"white\"}},\"header\":{\"fill\":{\"color\":\"#C8D4E3\"},\"line\":{\"color\":\"white\"}},\"type\":\"table\"}]},\"layout\":{\"annotationdefaults\":{\"arrowcolor\":\"#2a3f5f\",\"arrowhead\":0,\"arrowwidth\":1},\"autotypenumbers\":\"strict\",\"coloraxis\":{\"colorbar\":{\"outlinewidth\":0,\"ticks\":\"\"}},\"colorscale\":{\"diverging\":[[0,\"#8e0152\"],[0.1,\"#c51b7d\"],[0.2,\"#de77ae\"],[0.3,\"#f1b6da\"],[0.4,\"#fde0ef\"],[0.5,\"#f7f7f7\"],[0.6,\"#e6f5d0\"],[0.7,\"#b8e186\"],[0.8,\"#7fbc41\"],[0.9,\"#4d9221\"],[1,\"#276419\"]],\"sequential\":[[0.0,\"#0d0887\"],[0.1111111111111111,\"#46039f\"],[0.2222222222222222,\"#7201a8\"],[0.3333333333333333,\"#9c179e\"],[0.4444444444444444,\"#bd3786\"],[0.5555555555555556,\"#d8576b\"],[0.6666666666666666,\"#ed7953\"],[0.7777777777777778,\"#fb9f3a\"],[0.8888888888888888,\"#fdca26\"],[1.0,\"#f0f921\"]],\"sequentialminus\":[[0.0,\"#0d0887\"],[0.1111111111111111,\"#46039f\"],[0.2222222222222222,\"#7201a8\"],[0.3333333333333333,\"#9c179e\"],[0.4444444444444444,\"#bd3786\"],[0.5555555555555556,\"#d8576b\"],[0.6666666666666666,\"#ed7953\"],[0.7777777777777778,\"#fb9f3a\"],[0.8888888888888888,\"#fdca26\"],[1.0,\"#f0f921\"]]},\"colorway\":[\"#636efa\",\"#EF553B\",\"#00cc96\",\"#ab63fa\",\"#FFA15A\",\"#19d3f3\",\"#FF6692\",\"#B6E880\",\"#FF97FF\",\"#FECB52\"],\"font\":{\"color\":\"#2a3f5f\"},\"geo\":{\"bgcolor\":\"white\",\"lakecolor\":\"white\",\"landcolor\":\"#E5ECF6\",\"showlakes\":true,\"showland\":true,\"subunitcolor\":\"white\"},\"hoverlabel\":{\"align\":\"left\"},\"hovermode\":\"closest\",\"mapbox\":{\"style\":\"light\"},\"paper_bgcolor\":\"white\",\"plot_bgcolor\":\"#E5ECF6\",\"polar\":{\"angularaxis\":{\"gridcolor\":\"white\",\"linecolor\":\"white\",\"ticks\":\"\"},\"bgcolor\":\"#E5ECF6\",\"radialaxis\":{\"gridcolor\":\"white\",\"linecolor\":\"white\",\"ticks\":\"\"}},\"scene\":{\"xaxis\":{\"backgroundcolor\":\"#E5ECF6\",\"gridcolor\":\"white\",\"gridwidth\":2,\"linecolor\":\"white\",\"showbackground\":true,\"ticks\":\"\",\"zerolinecolor\":\"white\"},\"yaxis\":{\"backgroundcolor\":\"#E5ECF6\",\"gridcolor\":\"white\",\"gridwidth\":2,\"linecolor\":\"white\",\"showbackground\":true,\"ticks\":\"\",\"zerolinecolor\":\"white\"},\"zaxis\":{\"backgroundcolor\":\"#E5ECF6\",\"gridcolor\":\"white\",\"gridwidth\":2,\"linecolor\":\"white\",\"showbackground\":true,\"ticks\":\"\",\"zerolinecolor\":\"white\"}},\"shapedefaults\":{\"line\":{\"color\":\"#2a3f5f\"}},\"ternary\":{\"aaxis\":{\"gridcolor\":\"white\",\"linecolor\":\"white\",\"ticks\":\"\"},\"baxis\":{\"gridcolor\":\"white\",\"linecolor\":\"white\",\"ticks\":\"\"},\"bgcolor\":\"#E5ECF6\",\"caxis\":{\"gridcolor\":\"white\",\"linecolor\":\"white\",\"ticks\":\"\"}},\"title\":{\"x\":0.05},\"xaxis\":{\"automargin\":true,\"gridcolor\":\"white\",\"linecolor\":\"white\",\"ticks\":\"\",\"title\":{\"standoff\":15},\"zerolinecolor\":\"white\",\"zerolinewidth\":2},\"yaxis\":{\"automargin\":true,\"gridcolor\":\"white\",\"linecolor\":\"white\",\"ticks\":\"\",\"title\":{\"standoff\":15},\"zerolinecolor\":\"white\",\"zerolinewidth\":2}}},\"title\":{\"font\":{\"color\":\"#4D5663\"},\"text\":\"Top 10 Vendors by # of Transactions (Novemeber 2019)\"},\"xaxis\":{\"gridcolor\":\"#E1E5ED\",\"showgrid\":true,\"tickfont\":{\"color\":\"#4D5663\"},\"title\":{\"font\":{\"color\":\"#4D5663\"},\"text\":\"Number of Transactions\"},\"zerolinecolor\":\"#E1E5ED\"},\"yaxis\":{\"gridcolor\":\"#E1E5ED\",\"showgrid\":true,\"tickfont\":{\"color\":\"#4D5663\"},\"title\":{\"font\":{\"color\":\"#4D5663\"},\"text\":\"\"},\"zerolinecolor\":\"#E1E5ED\"}},                        {\"showLink\": true, \"linkText\": \"Export to plot.ly\", \"plotlyServerURL\": \"https://plot.ly\", \"responsive\": true}                    ).then(function(){\n",
       "                            \n",
       "var gd = document.getElementById('99261941-53d9-4d85-bc44-8663b39c001d');\n",
       "var x = new MutationObserver(function (mutations, observer) {{\n",
       "        var display = window.getComputedStyle(gd).display;\n",
       "        if (!display || display === 'none') {{\n",
       "            console.log([gd, 'removed!']);\n",
       "            Plotly.purge(gd);\n",
       "            observer.disconnect();\n",
       "        }}\n",
       "}});\n",
       "\n",
       "// Listen for the removal of the full notebook cells\n",
       "var notebookContainer = gd.closest('#notebook-container');\n",
       "if (notebookContainer) {{\n",
       "    x.observe(notebookContainer, {childList: true});\n",
       "}}\n",
       "\n",
       "// Listen for the clearing of the current output cell\n",
       "var outputEl = gd.closest('.output');\n",
       "if (outputEl) {{\n",
       "    x.observe(outputEl, {childList: true});\n",
       "}}\n",
       "\n",
       "                        })                };                });            </script>        </div>"
      ]
     },
     "metadata": {},
     "output_type": "display_data"
    }
   ],
   "source": [
    "# bar chart with the total number of transactions by vendor\n",
    "vendor_counts = FISCal_clean['vendor_name'].value_counts().head(10).iloc[::-1]\n",
    "vendor_counts.iplot(kind='bar', orientation='h', title='Top 10 Vendors by # of Transactions (Novemeber 2019)', xTitle='Number of Transactions')"
   ]
  }
 ],
 "metadata": {
  "kernelspec": {
   "display_name": "Python 3 (ipykernel)",
   "language": "python",
   "name": "python3"
  },
  "language_info": {
   "codemirror_mode": {
    "name": "ipython",
    "version": 3
   },
   "file_extension": ".py",
   "mimetype": "text/x-python",
   "name": "python",
   "nbconvert_exporter": "python",
   "pygments_lexer": "ipython3",
   "version": "3.10.6"
  }
 },
 "nbformat": 4,
 "nbformat_minor": 4
}
